{
 "cells": [
  {
   "cell_type": "code",
   "execution_count": 242,
   "metadata": {},
   "outputs": [],
   "source": [
    "import pandas as pd    # Read the dataset into a dataframe and general adjustments to data points\n",
    "import numpy as np    \n",
    "\n",
    "## Ploting Libraries ##\n",
    "import matplotlib.pyplot as plt \n",
    "from sklearn import tree\n",
    "\n",
    "## Modeling Libraries\n",
    "from sklearn.model_selection import train_test_split, GridSearchCV, cross_val_score    # Split dataset to training sets, Perform multiple iteractions and perform cross value scores\n",
    "from sklearn.preprocessing import MinMaxScaler     # Scalers to scale the dataset \n",
    "from sklearn.metrics import precision_score, recall_score, accuracy_score, f1_score \n",
    "from sklearn.metrics import ConfusionMatrixDisplay\n",
    "from sklearn.metrics import confusion_matrix\n",
    "\n",
    "## Classifiers ##\n",
    "from sklearn.tree import DecisionTreeClassifier    # The basic regression model using Decision tree\n",
    "from sklearn.ensemble import RandomForestClassifier    # A more complex model with Random Forests\n",
    "from xgboost import XGBClassifier"
   ]
  },
  {
   "cell_type": "code",
   "execution_count": 2,
   "metadata": {},
   "outputs": [],
   "source": [
    "features = pd.read_csv('Data/training_set_features.csv')    # Original Dataset\n",
    "labels = pd.read_csv('Data/training_set_labels.csv')    # Original Dataset\n",
    "target = labels['seasonal_vaccine'].copy()    # Only the seasonal vaccine column"
   ]
  },
  {
   "cell_type": "code",
   "execution_count": 3,
   "metadata": {},
   "outputs": [
    {
     "name": "stdout",
     "output_type": "stream",
     "text": [
      "There are 26707 in the dataset\n",
      "No duplicates found\n",
      "Dataframes have missing values\n",
      "There are 12 columns with the data type, <class 'object'> data types that need to be converted. \n",
      "There are 24 columns with the data type, number data types that need to be converted. \n"
     ]
    }
   ],
   "source": [
    "## 1. 26,707 observations\n",
    "print(f'There are {len(features)} in the dataset')\n",
    "\n",
    "## 2. Check for duplicates\n",
    "df_list = [features, labels]\n",
    "if sum([dataframe.duplicated().sum() for dataframe in df_list]) > 0:\n",
    "    print('Dataframes have duplicates')\n",
    "else:\n",
    "    print('No duplicates found')\n",
    "\n",
    "## Check for NaN / Missing Values\n",
    "if sum([dataframe.isna().sum().values.sum() for dataframe in df_list]) > 0:\n",
    "    print('Dataframes have missing values')\n",
    "else:\n",
    "    print('Dataframes have no missing values')\n",
    "\n",
    "## 3. Check columns data types\n",
    "for dtype in [object, 'number']:\n",
    "    print('There are {} columns with the data type, {} data types that need to be converted. '.format(sum([len(features.select_dtypes(dtype).columns)]), dtype))"
   ]
  },
  {
   "cell_type": "code",
   "execution_count": 4,
   "metadata": {},
   "outputs": [],
   "source": [
    "## 1. Split the dataframe \n",
    "X_train, X_test, y_train, y_test = train_test_split(features.drop('respondent_id', axis = 1), target, test_size= .20, random_state= 420)"
   ]
  },
  {
   "cell_type": "code",
   "execution_count": 5,
   "metadata": {},
   "outputs": [],
   "source": [
    "## 2. Calulate the weight of the values\n",
    "# For reproductivity\n",
    "np.random.seed(420)  \n",
    "\n",
    "for dataset in [X_train, X_test]:\n",
    "    missing_labels = {}\n",
    "    # Determing the probability of a given value in a given column\n",
    "    for column in dataset.columns:\n",
    "        if dataset[column].isna().sum() > 0:\n",
    "            counts = dataset[column].value_counts(normalize= True)\n",
    "            missing_labels[column] = [counts.keys(), counts.values]\n",
    "        ## 3. Fill all the missing values\n",
    "    # For each of the missing columns, give the missing value a random value\n",
    "    for column in missing_labels:\n",
    "        indexs = dataset[column].loc[dataset[column].isna() == True].index\n",
    "        values = np.random.choice(missing_labels[column][0], p = missing_labels[column][1], size = len(indexs))\n",
    "        na_map = dict(zip(indexs, values))\n",
    "        dataset[column].fillna(na_map, inplace= True)"
   ]
  },
  {
   "cell_type": "code",
   "execution_count": 6,
   "metadata": {},
   "outputs": [],
   "source": [
    "## 4.  Create dummy variables\n",
    "X_train_scaled = pd.get_dummies(X_train, columns= X_train.select_dtypes(object).columns)\n",
    "X_test_scaled = pd.get_dummies(X_test, columns= X_train.select_dtypes(object).columns)"
   ]
  },
  {
   "cell_type": "code",
   "execution_count": 7,
   "metadata": {},
   "outputs": [],
   "source": [
    "## 5. Fit and transform the dataset with the dataset\n",
    "scaler = MinMaxScaler()\n",
    "X_train_scaled = pd.DataFrame(scaler.fit_transform(X_train_scaled), columns= X_train_scaled.columns)\n",
    "X_test_scaled = pd.DataFrame(scaler.transform(X_test_scaled), columns= X_test_scaled.columns)"
   ]
  },
  {
   "cell_type": "code",
   "execution_count": 8,
   "metadata": {},
   "outputs": [],
   "source": [
    "## Decision Tree with default parameters other than the criterion ##\n",
    "tree_clf = DecisionTreeClassifier(criterion= 'entropy', random_state= 420)\n",
    "tree_model = tree_clf.fit(X_train_scaled,y_train)\n",
    "\n",
    "## Add into a list for the scores found from the classifer ## \n",
    "tree_scores = []\n",
    "tree_scores.append(tree_clf.score(X_train_scaled, y_train))\n",
    "tree_scores.append(tree_clf.score(X_test_scaled, y_test))\n",
    "tree_scores.append(cross_val_score(tree_clf, X_test_scaled, y_test, scoring= 'accuracy').mean())"
   ]
  },
  {
   "cell_type": "code",
   "execution_count": 239,
   "metadata": {},
   "outputs": [
    {
     "data": {
      "image/png": "[encoded data removed]",
      "text/plain": [
       "<Figure size 504x504 with 1 Axes>"
      ]
     },
     "metadata": {
      "needs_background": "light"
     },
     "output_type": "display_data"
    }
   ],
   "source": [
    "def add_labels(x, y):\n",
    "    for index in x:\n",
    "        plt.text(index, 10000, y[index], ha = 'center')\n",
    "        \n",
    "values = list(labels['seasonal_vaccine'].value_counts().values) + list(labels['h1n1_vaccine'].value_counts().values)\n",
    "fig, ax = plt.subplots(figsize= (7, 7))\n",
    "plt.xticks(np.arange(4), ['Not Vaccined', 'Vaccined', 'Not Vaccined', 'Vaccined'])\n",
    "plt.bar([0,1], height= list(labels['seasonal_vaccine'].value_counts().values) , width= .5, color = 'green', label = 'Seasonal Vaccines');\n",
    "plt.bar([2,3], height= list(labels['h1n1_vaccine'].value_counts().values) , width= .5, color = 'blue', label = 'H1N1 Vaccines');\n",
    "ax.set_title('Vaccinated Distribution - Original');\n",
    "ax.set_ylabel('Number of participants')\n",
    "ax.legend();\n",
    "value_list = ['{}%'.format(round(item, 2)*100) for item in (list(labels['seasonal_vaccine'].value_counts(normalize= True).values) + list(labels['h1n1_vaccine'].value_counts(normalize= True).values))]\n",
    "\n",
    "add_labels(np.arange(4), value_list)\n"
   ]
  },
  {
   "cell_type": "code",
   "execution_count": null,
   "metadata": {},
   "outputs": [],
   "source": [
    "forest_clf_v2 = RandomForestClassifier(criterion= 'entropy', max_depth= 15, max_features= 15,\n",
    "                                         min_samples_leaf= 1, min_samples_split= 1, n_estimators= 300, \n",
    "                                         random_state= 420)\n",
    "forest_clf_v2.fit(X_train_scaled, y_train)\n",
    "\n",
    "y_pred = forest_clf_v2.predict(X_test_scaled)\n",
    "matrix = confusion_matrix(y_test, y_pred)\n",
    "disp = ConfusionMatrixDisplay(matrix)\n",
    "disp.plot();"
   ]
  },
  {
   "cell_type": "code",
   "execution_count": 289,
   "metadata": {},
   "outputs": [
    {
     "data": {
      "image/png": "[encoded data removed]",
      "text/plain": [
       "<Figure size 1080x720 with 1 Axes>"
      ]
     },
     "metadata": {
      "needs_background": "light"
     },
     "output_type": "display_data"
    }
   ],
   "source": [
    "y = forest_clf_v2.feature_importances_\n",
    "x = forest_clf_v2.feature_names_in_\n",
    "paired_importance = sorted(zip(x,y), key= lambda x: x[1], reverse= True)\n",
    "\n",
    "most_important = [name[0] for name in paired_importance[:5]]\n",
    "important_values = [value[1] for value in paired_importance[:5]]\n",
    "\n",
    "plt.figure(figsize= (15,10))\n",
    "plt.title('Top Features')\n",
    "plt.xlabel('Features')\n",
    "plt.ylabel('Percentage')\n",
    "plt.bar(most_important, important_values);"
   ]
  }
 ],
 "metadata": {
  "kernelspec": {
   "display_name": "Python 3",
   "language": "python",
   "name": "python3"
  },
  "language_info": {
   "codemirror_mode": {
    "name": "ipython",
    "version": 3
   },
   "file_extension": ".py",
   "mimetype": "text/x-python",
   "name": "python",
   "nbconvert_exporter": "python",
   "pygments_lexer": "ipython3",
   "version": "3.8.5"
  }
 },
 "nbformat": 4,
 "nbformat_minor": 4
}
