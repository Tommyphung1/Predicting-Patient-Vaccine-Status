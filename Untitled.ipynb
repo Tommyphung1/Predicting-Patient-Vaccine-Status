{
 "cells": [
  {
   "cell_type": "markdown",
   "metadata": {},
   "source": [
    "# Phase 3 Project\n",
    "**Client:** Providence (Most medical centers) <br>\n",
    "**Authors:** Tommy Phung"
   ]
  },
  {
   "cell_type": "markdown",
   "metadata": {},
   "source": [
    "## Overview\n",
    "With the growing doubts on vaccines effectivness, patients are questoning whether to take the Covid vaccine. We will be using the National 2009 H1N1 Flu Survey provided from [United States National Center for Health Statistics](https://www.cdc.gov/nchs/index.htm).\n",
    "We will be modeling to see if we can predict whether an individual have taken the Seasonal Vaccine based on several different features from the their response in the survey.\n",
    "\n",
    "\n",
    "***<p style=\"text-align: center;\">Features</p>***\n",
    "\n",
    "\n",
    "| Label                       | Description                                                                                                                                                                                                                                                                                                                                     |\n",
    "|:-----------------------------|-------------------------------------------------------------------------------------------------------------------------------------------------------------------------------------------------------------------------------------------------------------------------------------------------------------------------------------------------:|\n",
    "| h1n1_concern                | Level of concern about the H1N1 flu                                                                                                                                                                                                                                                                                                             |\n",
    "| h1n1_knowledge              | Level of knowledge about H1N1 flu                                                                                                                                                                                                                                                                                                               |\n",
    "| behavioral_antiviral_meds   | Has taken antiviral medications                                                                                                                                                                                                                                                                                                                 |\n",
    "| behavioral_avoidance        | Has avoided close contact with others with flu-like symptoms                                                                                                                                                                                                                                                                                     |\n",
    "| behavioral_face_mask        | Has bought a face mask                                                                                                                                                                                                                                                                                                                           |\n",
    "| behavioral_wash_hands       | Has frequently washed hands or used hand sanitizer                                                                                                                                                                                                                                                                                               |\n",
    "| behavioral_large_gatherings | Has reduced time at large gatherings                                                                                                                                                                                                                                                                                                             |\n",
    "| behavioral_outside_home     | Has reduced contact with people outside of own household                                                                                                                                                                                                                                                                                         |\n",
    "| behavioral_touch_face       | Has avoided touching eyes, nose, or mouth                                                                                                                                                                                                                                                                                                       |\n",
    "| doctor_recc_h1n1            | H1N1 flu vaccine was recommended by doctor                                                                                                                                                                                                                                                                                                       |\n",
    "| doctor_recc_seasonal        | Seasonal flu vaccine was recommended by doctor                                                                                                                                                                                                                                                                                                   |\n",
    "| chronic_med_condition       | Has a chronic medical conditions |\n",
    "| child_under_6_months        | Has regular close contact with a child under the age of six months                                                                  |\n",
    "| health_worker               | Is a healthcare worker                                                                                                                                                                                                                                                                                                                           |\n",
    "| health_insurance          | Has health insurance                                                                                                                                                                                                                                                                                                                               |\n",
    "| opinion_h1n1_vacc_effective | Respondent's opinion about H1N1 vaccine effectiveness                                                                                                                                                                                                                                                                                           |\n",
    "| opinion_h1n1_risk           | Respondent's opinion about risk of getting sick with H1N1 flu without vaccine                                                                                                                                                                                                                                                                   |\n",
    "| opinion_h1n1_sick_from_vacc | Respondent's worry of getting sick from taking H1N1 vaccine                                                                                                                                                                                                                                                                                     |\n",
    "| opinion_seas_vacc_effective | Respondent's opinion about seasonal flu vaccine effectiveness                                                                                                                                                                                                                                                                                   |\n",
    "| opinion_seas_risk           | Respondent's opinion about risk of getting sick with seasonal flu without vaccine                                                                                                                                                                                                                                                               |\n",
    "| opinion_seas_sick_from_vacc | Respondent's worry of getting sick from taking seasonal flu vaccine                                                                                                                                                                                                                                                                             |\n",
    "| age_group                   | Age group of respondent                                                                                                                                                                                                                                                                                                                         |\n",
    "| education                   | Self-reported education level                                                                                                                                                                                                                                                                                                                   |\n",
    "| race                        | Race of respondent                                                                                                                                                                                                                                                                                                                               |\n",
    "| sex                         | Sex of respondent                                                                                                                                                                                                                                                                                                                               |\n",
    "| income_poverty              | Household annual income of respondent with respect to 2008 Census poverty thresholds                                                                                                                                                                                                                                                             |\n",
    "| marital_status              | Marital status of respondent                                                                                                                                                                                                                                                                                                                     |\n",
    "| rent_or_own                 | Housing situation of respondent.                                                                                                                                                                                                                                                                                                                 |\n",
    "| employment_status           | Employment status of respondent.                                                                                                                                                                                                                                                                                                                 |\n",
    "| hhs_geo_region              | Respondent's residence using a 10-region geographic classification defined by the U.S. Dept. of Health and Human Services.                                                                                                                                         \n",
    "| census_msa                  | Respondent's residence within metropolitan statistical areas (MSA) as defined by the U.S. Census                                                                                                                                                                                                                                                 |\n",
    "| household_adults            | Number of other adults in household, top-coded to 3                                                                                                                                                                                                                                                                                             |\n",
    "| household_children          | Number of children in household, top-coded to 3                                                                                                                                                                                                                                                                                                 |\n",
    "| employment_industry         | Type of industry respondent is employed in. Values are represented as short random character strings                                                                                                                                                                                                                                             |\n",
    "| employment_occupation       | Type of occupation of respondent. Values are represented as short random character strings                                                                                                                                                                                                                                                       |\n",
    "\n",
    "\n",
    "***<p style=\"text-align: center;\">Targets</p>***\n",
    "\n",
    "| Label            | Description                                      |\n",
    "|------------------|--------------------------------------------------:|\n",
    "| h1n1_vaccine     | Whether respondent received H1N1 flu vaccine     |\n",
    "| seasonal_vaccine | Whether respondent received seasonal flu vaccine |\n",
    "\n",
    "For this model, we will be focusing the **season flu vaccine** label from the dataset."
   ]
  },
  {
   "cell_type": "markdown",
   "metadata": {},
   "source": [
    "## Import Libraries\n",
    "Majority of the libraries being used are from sklearn in order to format the data and create the regression models."
   ]
  },
  {
   "cell_type": "code",
   "execution_count": 2,
   "metadata": {},
   "outputs": [],
   "source": [
    "import pandas as pd    # Read the dataset into a dataframe and general adjustments to data points\n",
    "from sklearn.model_selection import train_test_split, GridSearchCV, cross_val_score    # Split dataset to training sets, Perform multiple iteractions and perform cross value scores\n",
    "from sklearn.preprocessing import MinMaxScaler, StandardScaler     # Scalers to scale the dataset \n",
    "from sklearn.metrics import precision_score, recall_score, accuracy_score, f1_score \n",
    "from sklearn.tree import DecisionTreeClassifier    # The basic regression model using Decision tree\n",
    "from sklearn.ensemble import RandomForestClassifier    # A more complex model with Random Forests\n",
    "import joblib    # Enable to load model previously made\n",
    "import matplotlib.pyplot as plt \n",
    "from sklearn.model_selection import KFold\n",
    "from sklearn import tree\n",
    "import numpy as np\n",
    "from sklearn.compose import ColumnTransformer\n",
    "from xgboost import XGBClassifier\n",
    "from sklearn.pipeline import Pipeline\n",
    "from sklearn.preprocessing import OneHotEncoder"
   ]
  },
  {
   "cell_type": "markdown",
   "metadata": {},
   "source": [
    "## Import Dataset\n",
    "The dataset was seperated into training dataset and testing dataset. The data only had the target results from the 'testing' set so we will only be using that for our modeling. <br>\n",
    "We will be focusing mainly on the seasonal vaccine. "
   ]
  },
  {
   "cell_type": "code",
   "execution_count": 3,
   "metadata": {},
   "outputs": [],
   "source": [
    "features = pd.read_csv('Data/training_set_features.csv')    # Original Dataset\n",
    "labels = pd.read_csv('Data/training_set_labels.csv')    # Original Dataset\n",
    "target = labels['seasonal_vaccine'].copy()    # Only the seasonal vaccine column"
   ]
  },
  {
   "cell_type": "markdown",
   "metadata": {},
   "source": [
    "## Business Understanding \n",
    "Vaccines are a useful way to prevent viral infections. One of the most common viral infections is influenza or most commonly known as the flu. The CDC recommended individuals to recieve the vaccine during the flu season of every year. However, since vaccines aren't manditory, individuals may deny them through personal beliefs or limited knowledge of the vaccine. Vaccines would be wasted where they could be used in other medical centers. <br> \n",
    "\n",
    "**For example, 1.1 billion Covid Vaccines were estimated to be wasted due to expired vaccines and supply chain issues.** <br>\n",
    "\n",
    "In order to give patients the the vaccines as efficently as possible, hospitals and medical center store vaccines to be administer quickly whenever requested. With the current dataset, we could potentially predict whether a patient would want a vaccine based on their answers on the survey. This way, medical center can order an adiquite amount of vaccines with minimual waste. \n"
   ]
  },
  {
   "cell_type": "markdown",
   "metadata": {},
   "source": [
    "## Data Exploration\n",
    "1. Number of obversations\n",
    "2. Check for duplicates, NaN's and Missing values  -> Missing values found for multiple.\n",
    "3. Check columns data type "
   ]
  },
  {
   "cell_type": "code",
   "execution_count": 4,
   "metadata": {},
   "outputs": [
    {
     "name": "stdout",
     "output_type": "stream",
     "text": [
      "There are 26707 in the dataset\n",
      "No duplicates found\n",
      "Dataframes have missing values\n",
      "There are 12 columns with the data type, <class 'object'> data types that need to be converted. \n",
      "There are 24 columns with the data type, number data types that need to be converted. \n"
     ]
    }
   ],
   "source": [
    "# 1. 26,707 observations\n",
    "print(f'There are {len(features)} in the dataset')\n",
    "\n",
    "# 2. Check for duplicates\n",
    "df_list = [features, labels]\n",
    "if sum([dataframe.duplicated().sum() for dataframe in df_list]) > 0:\n",
    "    print('Dataframes have duplicates')\n",
    "else:\n",
    "    print('No duplicates found')\n",
    "\n",
    "# Check for NaN / Missing Values\n",
    "if sum([dataframe.isna().sum().values.sum() for dataframe in df_list]) > 0:\n",
    "    print('Dataframes have missing values')\n",
    "else:\n",
    "    print('Dataframes have no missing values')\n",
    "\n",
    "# 3. Check columns data types\n",
    "for dtype in [object, 'number']:\n",
    "    print('There are {} columns with the data type, {} data types that need to be converted. '.format(sum([len(features.select_dtypes(dtype).columns)]), dtype))"
   ]
  },
  {
   "cell_type": "markdown",
   "metadata": {},
   "source": [
    "## Data Understanding\n",
    "The dataset consist of binary and numerical entries based on their answers on a survey. To make use of all the data from this survey, all the missing values will be filled with a random value with their weighted probablity. \n",
    "The Preprocessing steps are:\n",
    "1. Dummy variables are needed for the object datatype to be modeled\n",
    "2. Scaling is used to allow as little influnece in their values since majority are 1's, and 0's."
   ]
  },
  {
   "cell_type": "code",
   "execution_count": null,
   "metadata": {},
   "outputs": [],
   "source": []
  }
 ],
 "metadata": {
  "kernelspec": {
   "display_name": "Python 3",
   "language": "python",
   "name": "python3"
  },
  "language_info": {
   "codemirror_mode": {
    "name": "ipython",
    "version": 3
   },
   "file_extension": ".py",
   "mimetype": "text/x-python",
   "name": "python",
   "nbconvert_exporter": "python",
   "pygments_lexer": "ipython3",
   "version": "3.8.5"
  }
 },
 "nbformat": 4,
 "nbformat_minor": 4
}
