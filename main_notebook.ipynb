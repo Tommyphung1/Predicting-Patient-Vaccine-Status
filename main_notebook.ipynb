{
 "cells": [
  {
   "cell_type": "markdown",
   "metadata": {},
   "source": [
    "# Phase 3 Project\n",
    "Client: <br>\n",
    "Authors: Tommy Phung"
   ]
  },
  {
   "cell_type": "markdown",
   "metadata": {},
   "source": [
    "## Overview\n",
    "With the growing doubts on vaccines effectivness, patients are questoning whether to take the Covid vaccine. We will be using the National 2009 H1N1 Flu Survey provided from [United States National Center for Health Statistics](https://www.cdc.gov/nchs/index.htm).\n",
    "We will be modeling to see if we can predict whether an individual have taken the H1N1 Vaccine based on several different features from the their response in the survey.\n",
    "\n",
    "\n",
    "***<p style=\"text-align: center;\">Features</p>***\n",
    "\n",
    "\n",
    "| Label                       | Description                                                                                                                                                                                                                                                                                                                                     |\n",
    "|:-----------------------------|-------------------------------------------------------------------------------------------------------------------------------------------------------------------------------------------------------------------------------------------------------------------------------------------------------------------------------------------------:|\n",
    "| h1n1_concern                | Level of concern about the H1N1 flu                                                                                                                                                                                                                                                                                                             |\n",
    "| h1n1_knowledge              | Level of knowledge about H1N1 flu                                                                                                                                                                                                                                                                                                               |\n",
    "| behavioral_antiviral_meds   | Has taken antiviral medications                                                                                                                                                                                                                                                                                                                 |\n",
    "| behavioral_avoidance        | Has avoided close contact with others with flu-like symptoms                                                                                                                                                                                                                                                                                     |\n",
    "| behavioral_face_mask        | Has bought a face mask                                                                                                                                                                                                                                                                                                                           |\n",
    "| behavioral_wash_hands       | Has frequently washed hands or used hand sanitizer                                                                                                                                                                                                                                                                                               |\n",
    "| behavioral_large_gatherings | Has reduced time at large gatherings                                                                                                                                                                                                                                                                                                             |\n",
    "| behavioral_outside_home     | Has reduced contact with people outside of own household                                                                                                                                                                                                                                                                                         |\n",
    "| behavioral_touch_face       | Has avoided touching eyes, nose, or mouth                                                                                                                                                                                                                                                                                                       |\n",
    "| doctor_recc_h1n1            | H1N1 flu vaccine was recommended by doctor                                                                                                                                                                                                                                                                                                       |\n",
    "| doctor_recc_seasonal        | Seasonal flu vaccine was recommended by doctor                                                                                                                                                                                                                                                                                                   |\n",
    "| chronic_med_condition       | Has a chronic medical conditions |\n",
    "| child_under_6_months        | Has regular close contact with a child under the age of six months                                                                  |\n",
    "| health_worker               | Is a healthcare worker                                                                                                                                                                                                                                                                                                                           |\n",
    "| health_insurance          | Has health insurance                                                                                                                                                                                                                                                                                                                               |\n",
    "| opinion_h1n1_vacc_effective | Respondent's opinion about H1N1 vaccine effectiveness                                                                                                                                                                                                                                                                                           |\n",
    "| opinion_h1n1_risk           | Respondent's opinion about risk of getting sick with H1N1 flu without vaccine                                                                                                                                                                                                                                                                   |\n",
    "| opinion_h1n1_sick_from_vacc | Respondent's worry of getting sick from taking H1N1 vaccine                                                                                                                                                                                                                                                                                     |\n",
    "| opinion_seas_vacc_effective | Respondent's opinion about seasonal flu vaccine effectiveness                                                                                                                                                                                                                                                                                   |\n",
    "| opinion_seas_risk           | Respondent's opinion about risk of getting sick with seasonal flu without vaccine                                                                                                                                                                                                                                                               |\n",
    "| opinion_seas_sick_from_vacc | Respondent's worry of getting sick from taking seasonal flu vaccine                                                                                                                                                                                                                                                                             |\n",
    "| age_group                   | Age group of respondent                                                                                                                                                                                                                                                                                                                         |\n",
    "| education                   | Self-reported education level                                                                                                                                                                                                                                                                                                                   |\n",
    "| race                        | Race of respondent                                                                                                                                                                                                                                                                                                                               |\n",
    "| sex                         | Sex of respondent                                                                                                                                                                                                                                                                                                                               |\n",
    "| income_poverty              | Household annual income of respondent with respect to 2008 Census poverty thresholds                                                                                                                                                                                                                                                             |\n",
    "| marital_status              | Marital status of respondent                                                                                                                                                                                                                                                                                                                     |\n",
    "| rent_or_own                 | Housing situation of respondent.                                                                                                                                                                                                                                                                                                                 |\n",
    "| employment_status           | Employment status of respondent.                                                                                                                                                                                                                                                                                                                 |\n",
    "| hhs_geo_region              | Respondent's residence using a 10-region geographic classification defined by the U.S. Dept. of Health and Human Services.                                                                                                                                         \n",
    "| census_msa                  | Respondent's residence within metropolitan statistical areas (MSA) as defined by the U.S. Census                                                                                                                                                                                                                                                 |\n",
    "| household_adults            | Number of other adults in household, top-coded to 3                                                                                                                                                                                                                                                                                             |\n",
    "| household_children          | Number of children in household, top-coded to 3                                                                                                                                                                                                                                                                                                 |\n",
    "| employment_industry         | Type of industry respondent is employed in. Values are represented as short random character strings                                                                                                                                                                                                                                             |\n",
    "| employment_occupation       | Type of occupation of respondent. Values are represented as short random character strings                                                                                                                                                                                                                                                       |\n",
    "\n",
    "\n",
    "***<p style=\"text-align: center;\">Targets</p>***\n",
    "\n",
    "| Label            | Description                                      |\n",
    "|------------------|--------------------------------------------------:|\n",
    "| h1n1_vaccine     | Whether respondent received H1N1 flu vaccine     |\n",
    "| seasonal_vaccine | Whether respondent received seasonal flu vaccine |"
   ]
  },
  {
   "cell_type": "markdown",
   "metadata": {},
   "source": [
    "## Import Libraries\n",
    "Majority of the libraries being used are from sklearn in order to format the data and create the regression models."
   ]
  },
  {
   "cell_type": "code",
   "execution_count": null,
   "metadata": {},
   "outputs": [],
   "source": [
    "import pandas as pd    # Read the dataset into a dataframe and general adjustments to data points\n",
    "from sklearn.model_selection import train_test_split, GridSearchCV, cross_val_score    # Split dataset to training sets, Perform multiple iteractions and perform cross value scores\n",
    "from sklearn.preprocessing import MinMaxScaler, StandardScaler     # Scalers to scale the dataset \n",
    "from sklearn.tree import DecisionTreeClassifier    # The basic regression model using Decision tree\n",
    "from sklearn.ensemble import RandomForestClassifier    # A more complex model with Random Forests\n",
    "import joblib    # Enable to load model previously made\n",
    "import matplotlib.pyplot as plt "
   ]
  },
  {
   "cell_type": "markdown",
   "metadata": {},
   "source": [
    "## Import Dataset\n",
    "The dataset was seperated into training dataset and testing dataset. Each was loaded with no change needed. "
   ]
  },
  {
   "cell_type": "code",
   "execution_count": 1,
   "metadata": {},
   "outputs": [],
   "source": [
    "features = pd.read_csv('Data/training_set_features.csv')\n",
    "labels = pd.read_csv('Data/training_set_labels.csv')"
   ]
  },
  {
   "cell_type": "markdown",
   "metadata": {},
   "source": [
    "## Business Understanding \n",
    "\n",
    "In order to have enough vaccines for the coming season, providers need an estimate on how many vaccines to have in hand. Using the dataset, we can create a model to predict whether a patient would be taking the vaccine. This model should give providers a rough estimate on how many vaccines to make for any given location. "
   ]
  },
  {
   "cell_type": "markdown",
   "metadata": {},
   "source": [
    "## Data Exploration\n",
    "1. Check for duplicates, NaN's and Missing values  -> Missing values found for multiple.\n",
    "2. Check columns data type "
   ]
  },
  {
   "cell_type": "code",
   "execution_count": 2,
   "metadata": {},
   "outputs": [
    {
     "name": "stdout",
     "output_type": "stream",
     "text": [
      "No duplicates found\n",
      "Dataframes have missing values\n",
      "8 columns are missing values and needs to be removed\n"
     ]
    }
   ],
   "source": [
    "# 1. \n",
    "# Check for duplicates\n",
    "df_list = [features, labels]\n",
    "if sum([dataframe.duplicated().sum() for dataframe in df_list]) > 0:\n",
    "    print('Dataframes have duplicates')\n",
    "else:\n",
    "    print('No duplicates found')\n",
    "\n",
    "# Check for NaN / Missing Values\n",
    "if sum([dataframe.isna().sum().values.sum() for dataframe in df_list]) > 0:\n",
    "    print('Dataframes have missing values')\n",
    "else:\n",
    "    print('Dataframes have no missing values')\n",
    "\n",
    "drop_list = ['respondent_id']   # The list of columns to be dropped if over 20 of the data is missing, respondent id is not used in this model\n",
    "for name, feature in zip(features.columns, features.isna().sum()):\n",
    "    if(round(feature / len(features), 2) > .05):    # Cutoff filling missing values if more than 5% of the data is missing\n",
    "        drop_list.append(name)\n",
    "        \n",
    "drop_list = set(drop_list)\n",
    "print('{} columns are missing values and needs to be removed'.format(len(drop_list)))"
   ]
  },
  {
   "cell_type": "code",
   "execution_count": 3,
   "metadata": {},
   "outputs": [
    {
     "name": "stdout",
     "output_type": "stream",
     "text": [
      "There are 12 string data types that need to be converted. \n"
     ]
    }
   ],
   "source": [
    "2. \n",
    "# Check columns data types\n",
    "print('There are {} string data types that need to be converted. '.format(sum([len(features.select_dtypes(object).columns)])))"
   ]
  },
  {
   "cell_type": "markdown",
   "metadata": {},
   "source": [
    "1. **Solution** : Remove columns with too many missing values and replace the missing values for the columns with the appropirote values. (Mode, Median or Mean \n",
    "2. **Solution** : Convert the columns using one hot encoding or mapping."
   ]
  },
  {
   "cell_type": "markdown",
   "metadata": {},
   "source": [
    "## Data Preperation\n",
    "1. The dataframe are to be split into training set and testing set using 80/20 split.\n",
    "2. The columns with a large amount of missing values are dropped\n",
    "3. The columns with a small amount of missing values are replaced with the mode value of the feature\n",
    "4. The categorical data have dummy variables made for regression model\n",
    "5. Normalize the data to have the same scale"
   ]
  },
  {
   "cell_type": "code",
   "execution_count": 22,
   "metadata": {},
   "outputs": [],
   "source": []
  },
  {
   "cell_type": "code",
   "execution_count": 5,
   "metadata": {},
   "outputs": [],
   "source": [
    "## 1. Split the dataframe \n",
    "X_train, X_test, y_train, y_test = train_test_split(features, labels, test_size= .20, random_state= 420)"
   ]
  },
  {
   "cell_type": "code",
   "execution_count": 6,
   "metadata": {},
   "outputs": [],
   "source": [
    "# 2. Remove columns with too many missing values\n",
    "training_prepped = X_train.drop(drop_list, axis = 1)\n",
    "testing_prepped = X_test.drop(drop_list, axis = 1)"
   ]
  },
  {
   "cell_type": "code",
   "execution_count": 7,
   "metadata": {},
   "outputs": [
    {
     "data": {
      "text/plain": [
       "True"
      ]
     },
     "execution_count": 7,
     "metadata": {},
     "output_type": "execute_result"
    }
   ],
   "source": [
    "missing_train = {}\n",
    "missing_test = {}\n",
    "for columns in training_prepped:\n",
    "    missing_train[columns] = training_prepped[columns].mode().values[0]\n",
    "for columns in testing_prepped:\n",
    "    missing_test[columns] = testing_prepped[columns].mode().values[0]\n",
    "missing_train == missing_test"
   ]
  },
  {
   "cell_type": "code",
   "execution_count": 8,
   "metadata": {},
   "outputs": [],
   "source": [
    "training_prepped.fillna(missing_train, inplace= True)\n",
    "testing_prepped.fillna(missing_test, inplace = True)"
   ]
  },
  {
   "cell_type": "code",
   "execution_count": 9,
   "metadata": {},
   "outputs": [],
   "source": [
    "2. \n",
    "# Create dummy values for the string object datatype\n",
    "\n",
    "training_prepped = pd.get_dummies(training_prepped)\n",
    "testing_prepped = pd.get_dummies(testing_prepped)"
   ]
  },
  {
   "cell_type": "code",
   "execution_count": 10,
   "metadata": {},
   "outputs": [],
   "source": [
    "# 5. Scaler to normalize the dateframe\n",
    "scaler = MinMaxScaler()\n",
    "scaled_training = pd.DataFrame(scaler.fit_transform(training_prepped), columns= training_prepped.columns)\n",
    "scaled_testing = pd.DataFrame(scaler.transform(testing_prepped), columns= testing_prepped.columns)"
   ]
  },
  {
   "cell_type": "markdown",
   "metadata": {},
   "source": [
    "## Baseline Model - Logistic regression model"
   ]
  },
  {
   "cell_type": "code",
   "execution_count": 11,
   "metadata": {},
   "outputs": [],
   "source": [
    "import statsmodels.api as sm\n",
    "from sklearn.linear_model import LogisticRegression\n",
    "\n",
    "logreg = LogisticRegression(fit_intercept=False, C=1e12, solver='liblinear')\n",
    "model_log = logreg.fit(scaled_training, y_train['seasonal_vaccine'])"
   ]
  },
  {
   "cell_type": "code",
   "execution_count": 12,
   "metadata": {},
   "outputs": [
    {
     "name": "stdout",
     "output_type": "stream",
     "text": [
      "The model predict the training data 76.01% correctly.\n",
      "The model predict the testing data 76.0% correctly.\n"
     ]
    }
   ],
   "source": [
    "import numpy as np\n",
    "\n",
    "y_pred_train = logreg.predict(scaled_training)\n",
    "y_pred_test = logreg.predict(scaled_testing)\n",
    "\n",
    "correct_train = np.abs(y_pred_train == y_train['seasonal_vaccine']).sum()\n",
    "correct_test = np.abs(y_pred_test == y_test['seasonal_vaccine']).sum()\n",
    "print('The model predict the training data {}% correctly.'.format(round(correct_train / len(y_train)*100,2)))\n",
    "print('The model predict the testing data {}% correctly.'.format(round(correct_test / len(y_test)* 100,2)))\n"
   ]
  },
  {
   "cell_type": "markdown",
   "metadata": {},
   "source": [
    "## Analysis\n",
    "The training data has a 81% accuracy but wasn't able to predict any of the testing dataset correctly"
   ]
  },
  {
   "cell_type": "code",
   "execution_count": 13,
   "metadata": {},
   "outputs": [],
   "source": [
    "X = scaled_training.copy()\n",
    "y = y_train['seasonal_vaccine']"
   ]
  },
  {
   "cell_type": "markdown",
   "metadata": {},
   "source": [
    "# Baseline Regression Model - Decision Tree"
   ]
  },
  {
   "cell_type": "code",
   "execution_count": 14,
   "metadata": {},
   "outputs": [],
   "source": [
    "tree_clf = DecisionTreeClassifier(criterion= 'entropy', random_state= 420)\n",
    "tree_model = tree_clf.fit(X,y)\n",
    "\n",
    "tree_train_score = tree_clf.score(X, y)\n",
    "tree_test_score = tree_clf.score(scaled_testing, y_test['seasonal_vaccine'])"
   ]
  },
  {
   "cell_type": "markdown",
   "metadata": {},
   "source": [
    "# Complex Regression Model - Random Forest Tree"
   ]
  },
  {
   "cell_type": "code",
   "execution_count": 15,
   "metadata": {},
   "outputs": [],
   "source": [
    "forest_clf = RandomForestClassifier(criterion= 'entropy', random_state= 420)\n",
    "forest_model = forest_clf.fit(scaled_training, y_train['seasonal_vaccine'])\n",
    "\n",
    "forest_train_score = forest_clf.score(X, y)\n",
    "forest_test_score = forest_clf.score(scaled_testing, y_test['seasonal_vaccine'])"
   ]
  },
  {
   "cell_type": "code",
   "execution_count": 33,
   "metadata": {},
   "outputs": [],
   "source": [
    "# Model generation was used once with these parameters but was commented out due to length of processing the model and fitting it to the dataset\n",
    "# param_grid = {\n",
    "#                 'n_estimators' : [10, 30, 100, 300],\n",
    "#                 'criterion': ['gini', 'entropy'],\n",
    "#                  'max_depth' : [None, 2,3,4,5,6],\n",
    "#                  'min_samples_split' : [2,5,10],\n",
    "#                  'min_samples_leaf' : [1,2,3,4,5,6]\n",
    "#              }\n",
    "# forest_clf = RandomForestClassifier()\n",
    "# forest_grid_search = GridSearchCV(forest_clf, param_grid, return_train_score= True, cv= 3)\n",
    "# forest_grid_search.fit(X, y)\n",
    "\n",
    "with open('hyperparameter_model.pkl', 'rb') as f:\n",
    "    forest_grid_search = joblib.load(f)\n",
    "    \n",
    "grid_train_score = forest_grid_search.score(X, y)\n",
    "grid_test_score = forest_grid_search.score(scaled_testing, y_test['seasonal_vaccine'])"
   ]
  },
  {
   "cell_type": "code",
   "execution_count": 35,
   "metadata": {},
   "outputs": [
    {
     "name": "stdout",
     "output_type": "stream",
     "text": [
      "Decision Tree Model\n",
      "Training Accuracy Score: 0.9999063889538966\n",
      "Testing Accuracy Score: 0.6542493448146761\n",
      "Random Forest Model\n",
      "Training Accuracy Score: 0.9999063889538966\n",
      "Testing Accuracy Score: 0.7536503182328715\n",
      "Random Forest with Tuning\n",
      "Training Accuracy Score: 0.854668850924409\n",
      "Testing Accuracy Score: 0.7615125421190565\n"
     ]
    }
   ],
   "source": [
    "print('Decision Tree Model')\n",
    "print('Training Accuracy Score: {}'.format(tree_train_score))\n",
    "print('Testing Accuracy Score: {}'.format(tree_test_score))\n",
    "\n",
    "print('Random Forest Model')\n",
    "print('Training Accuracy Score: {}'.format(forest_train_score))\n",
    "print('Testing Accuracy Score: {}'.format(forest_test_score))\n",
    "\n",
    "print('Random Forest with Tuning')\n",
    "print('Training Accuracy Score: {}'.format(grid_train_score))\n",
    "print('Testing Accuracy Score: {}'.format(grid_test_score))"
   ]
  },
  {
   "cell_type": "code",
   "execution_count": null,
   "metadata": {},
   "outputs": [],
   "source": [
    "def plot_feature_importances(model):\n",
    "    n_features = scaled_training.shape[1]\n",
    "    plt.figure(figsize=(8,8))\n",
    "    plt.barh(range(n_features), model.feature_importances_, align='center') \n",
    "    plt.yticks(np.arange(n_features), scaled_training.columns.values) \n",
    "    plt.xlabel('Feature importance')\n",
    "    plt.ylabel('Feature')\n"
   ]
  },
  {
   "cell_type": "code",
   "execution_count": 23,
   "metadata": {},
   "outputs": [],
   "source": [
    "# with open('hyperparameter_model.pkl', 'wb') as f:\n",
    "    #joblib.dump(forest_grid_search, f)"
   ]
  },
  {
   "cell_type": "code",
   "execution_count": 24,
   "metadata": {},
   "outputs": [],
   "source": []
  },
  {
   "cell_type": "code",
   "execution_count": null,
   "metadata": {},
   "outputs": [],
   "source": []
  },
  {
   "cell_type": "code",
   "execution_count": null,
   "metadata": {},
   "outputs": [],
   "source": []
  }
 ],
 "metadata": {
  "kernelspec": {
   "display_name": "Python 3",
   "language": "python",
   "name": "python3"
  },
  "language_info": {
   "codemirror_mode": {
    "name": "ipython",
    "version": 3
   },
   "file_extension": ".py",
   "mimetype": "text/x-python",
   "name": "python",
   "nbconvert_exporter": "python",
   "pygments_lexer": "ipython3",
   "version": "3.8.5"
  }
 },
 "nbformat": 4,
 "nbformat_minor": 4
}
