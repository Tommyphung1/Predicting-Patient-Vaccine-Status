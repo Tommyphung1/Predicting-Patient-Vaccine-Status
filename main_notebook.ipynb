{
 "cells": [
  {
   "cell_type": "markdown",
   "metadata": {},
   "source": [
    "# Phase 3 Project\n",
    "Client: <br>\n",
    "Authors: Tommy Phung"
   ]
  },
  {
   "cell_type": "markdown",
   "metadata": {},
   "source": [
    "## Overview\n",
    "With the growing doubts on vaccines effectivness, patients are questoning whether to take the Covid vaccine. We will be using the National 2009 H1N1 Flu Survey provided from [United States National Center for Health Statistics](https://www.cdc.gov/nchs/index.htm).\n",
    "We will be modeling to see if we can predict whether an individual have taken the H1N1 Vaccine based on several different features from the their response in the survey.\n",
    "\n",
    "\n",
    "***<p style=\"text-align: center;\">Features</p>***\n",
    "\n",
    "\n",
    "| Label                       | Description                                                                                                                                                                                                                                                                                                                                     |\n",
    "|:-----------------------------|-------------------------------------------------------------------------------------------------------------------------------------------------------------------------------------------------------------------------------------------------------------------------------------------------------------------------------------------------:|\n",
    "| h1n1_concern                | Level of concern about the H1N1 flu                                                                                                                                                                                                                                                                                                             |\n",
    "| h1n1_knowledge              | Level of knowledge about H1N1 flu                                                                                                                                                                                                                                                                                                               |\n",
    "| behavioral_antiviral_meds   | Has taken antiviral medications                                                                                                                                                                                                                                                                                                                 |\n",
    "| behavioral_avoidance        | Has avoided close contact with others with flu-like symptoms                                                                                                                                                                                                                                                                                     |\n",
    "| behavioral_face_mask        | Has bought a face mask                                                                                                                                                                                                                                                                                                                           |\n",
    "| behavioral_wash_hands       | Has frequently washed hands or used hand sanitizer                                                                                                                                                                                                                                                                                               |\n",
    "| behavioral_large_gatherings | Has reduced time at large gatherings                                                                                                                                                                                                                                                                                                             |\n",
    "| behavioral_outside_home     | Has reduced contact with people outside of own household                                                                                                                                                                                                                                                                                         |\n",
    "| behavioral_touch_face       | Has avoided touching eyes, nose, or mouth                                                                                                                                                                                                                                                                                                       |\n",
    "| doctor_recc_h1n1            | H1N1 flu vaccine was recommended by doctor                                                                                                                                                                                                                                                                                                       |\n",
    "| doctor_recc_seasonal        | Seasonal flu vaccine was recommended by doctor                                                                                                                                                                                                                                                                                                   |\n",
    "| chronic_med_condition       | Has a chronic medical conditions |\n",
    "| child_under_6_months        | Has regular close contact with a child under the age of six months                                                                  |\n",
    "| health_worker               | Is a healthcare worker                                                                                                                                                                                                                                                                                                                           |\n",
    "| health_insurance          | Has health insurance                                                                                                                                                                                                                                                                                                                               |\n",
    "| opinion_h1n1_vacc_effective | Respondent's opinion about H1N1 vaccine effectiveness                                                                                                                                                                                                                                                                                           |\n",
    "| opinion_h1n1_risk           | Respondent's opinion about risk of getting sick with H1N1 flu without vaccine                                                                                                                                                                                                                                                                   |\n",
    "| opinion_h1n1_sick_from_vacc | Respondent's worry of getting sick from taking H1N1 vaccine                                                                                                                                                                                                                                                                                     |\n",
    "| opinion_seas_vacc_effective | Respondent's opinion about seasonal flu vaccine effectiveness                                                                                                                                                                                                                                                                                   |\n",
    "| opinion_seas_risk           | Respondent's opinion about risk of getting sick with seasonal flu without vaccine                                                                                                                                                                                                                                                               |\n",
    "| opinion_seas_sick_from_vacc | Respondent's worry of getting sick from taking seasonal flu vaccine                                                                                                                                                                                                                                                                             |\n",
    "| age_group                   | Age group of respondent                                                                                                                                                                                                                                                                                                                         |\n",
    "| education                   | Self-reported education level                                                                                                                                                                                                                                                                                                                   |\n",
    "| race                        | Race of respondent                                                                                                                                                                                                                                                                                                                               |\n",
    "| sex                         | Sex of respondent                                                                                                                                                                                                                                                                                                                               |\n",
    "| income_poverty              | Household annual income of respondent with respect to 2008 Census poverty thresholds                                                                                                                                                                                                                                                             |\n",
    "| marital_status              | Marital status of respondent                                                                                                                                                                                                                                                                                                                     |\n",
    "| rent_or_own                 | Housing situation of respondent.                                                                                                                                                                                                                                                                                                                 |\n",
    "| employment_status           | Employment status of respondent.                                                                                                                                                                                                                                                                                                                 |\n",
    "| hhs_geo_region              | Respondent's residence using a 10-region geographic classification defined by the U.S. Dept. of Health and Human Services.                                                                                                                                         \n",
    "| census_msa                  | Respondent's residence within metropolitan statistical areas (MSA) as defined by the U.S. Census                                                                                                                                                                                                                                                 |\n",
    "| household_adults            | Number of other adults in household, top-coded to 3                                                                                                                                                                                                                                                                                             |\n",
    "| household_children          | Number of children in household, top-coded to 3                                                                                                                                                                                                                                                                                                 |\n",
    "| employment_industry         | Type of industry respondent is employed in. Values are represented as short random character strings                                                                                                                                                                                                                                             |\n",
    "| employment_occupation       | Type of occupation of respondent. Values are represented as short random character strings                                                                                                                                                                                                                                                       |\n",
    "\n",
    "\n",
    "***<p style=\"text-align: center;\">Targets</p>***\n",
    "\n",
    "| Label            | Description                                      |\n",
    "|------------------|--------------------------------------------------:|\n",
    "| h1n1_vaccine     | Whether respondent received H1N1 flu vaccine     |\n",
    "| seasonal_vaccine | Whether respondent received seasonal flu vaccine |"
   ]
  },
  {
   "cell_type": "markdown",
   "metadata": {},
   "source": [
    "## Import Dataset\n",
    "The dataset was seperated into training dataset and testing dataset. Each was loaded with no change needed. "
   ]
  },
  {
   "cell_type": "code",
   "execution_count": 1,
   "metadata": {},
   "outputs": [],
   "source": [
    "import pandas as pd\n",
    "training_features = pd.read_csv('Data/training_set_features.csv')\n",
    "training_labels = pd.read_csv('Data/training_set_labels.csv')\n",
    "testing_features = pd.read_csv('Data/test_set_features.csv')\n",
    "testing_labels = pd.read_csv('Data/submission_format.csv')"
   ]
  },
  {
   "cell_type": "markdown",
   "metadata": {},
   "source": [
    "## Data Exploration\n",
    "1. Check for duplicates, NaN's and Missing values  -> Missing values found for multiple.\n",
    "2. Check columns data type "
   ]
  },
  {
   "cell_type": "code",
   "execution_count": 84,
   "metadata": {},
   "outputs": [
    {
     "name": "stdout",
     "output_type": "stream",
     "text": [
      "No duplicates found\n",
      "Dataframes have missing values\n",
      "4 columns are missing values and needs to be removed\n"
     ]
    }
   ],
   "source": [
    "# 1. \n",
    "# Check for duplicates\n",
    "df_list = [training_features, training_labels, testing_features, testing_labels]\n",
    "if sum([dataframe.duplicated().sum() for dataframe in df_list]) > 0:\n",
    "    print('Dataframes have duplicates')\n",
    "else:\n",
    "    print('No duplicates found')\n",
    "\n",
    "# Check for NaN / Missing Values\n",
    "if sum([dataframe.isna().sum().values.sum() for dataframe in df_list]) > 0:\n",
    "    print('Dataframes have missing values')\n",
    "else:\n",
    "    print('Dataframes have no missing values')\n",
    "\n",
    "drop_list = []   # The list of columns to be dropped if over 20 of the data is missing\n",
    "for name, feature in zip(training_features.columns, training_features.isna().sum()):\n",
    "    if(round(feature / len(training_features), 2) > .10):\n",
    "        drop_list.append(name)\n",
    "print('{} columns are missing values and needs to be removed'.format(len(drop_list)))"
   ]
  },
  {
   "cell_type": "code",
   "execution_count": 57,
   "metadata": {},
   "outputs": [
    {
     "name": "stdout",
     "output_type": "stream",
     "text": [
      "There are 12 string data types that need to be converted. \n"
     ]
    }
   ],
   "source": [
    "2. \n",
    "# Check columns data types\n",
    "for dataframe in df_list[0:1]:\n",
    "    print('There are {} string data types that need to be converted. '.format(sum([len(dataframe.select_dtypes(object).columns)])))\n",
    "    "
   ]
  },
  {
   "cell_type": "markdown",
   "metadata": {},
   "source": [
    "1. **Solution** : Remove columns with too many missing values and replace the missing values for the columns with the appropirote values. (Mode, Median or Mean \n",
    "2. **Solution** : Convert the columns using one hot encoding or mapping."
   ]
  },
  {
   "cell_type": "code",
   "execution_count": 3,
   "metadata": {},
   "outputs": [
    {
     "ename": "SyntaxError",
     "evalue": "EOL while scanning string literal (<ipython-input-3-0cebfedcf14f>, line 15)",
     "output_type": "error",
     "traceback": [
      "\u001b[1;36m  File \u001b[1;32m\"<ipython-input-3-0cebfedcf14f>\"\u001b[1;36m, line \u001b[1;32m15\u001b[0m\n\u001b[1;33m    health_insurance'\u001b[0m\n\u001b[1;37m                     ^\u001b[0m\n\u001b[1;31mSyntaxError\u001b[0m\u001b[1;31m:\u001b[0m EOL while scanning string literal\n"
     ]
    }
   ],
   "source": [
    "h1n1_concern\n",
    "h1n1_knowledge\n",
    "behavioral_antiviral_meds\n",
    "behavioral_avoidance\n",
    "behavioral_face_mask \n",
    "behavioral_wash_hands\n",
    "behavioral_large_gatherings\n",
    "behavioral_outside_home\n",
    "behavioral_touch_face\n",
    "doctor_recc_h1n1\n",
    "doctor_recc_seasonal\n",
    "chronic_med_condition\n",
    "child_under_6_months\n",
    "health_worker\n",
    "health_insurance'\n",
    "opinion_h1n1_vacc_effective\n",
    "opinion_h1n1_risk\n",
    "opinion_h1n1_sick_from_vacc\n",
    "opinion_seas_vacc_effective\n",
    "opinion_seas_risk\n",
    "opinion_seas_sick_from_vacc\n",
    "age_group\n",
    "education\n",
    "race\n",
    "sex\n",
    "income_poverty\n",
    "marital_status\n",
    "rent_or_own\n",
    "employment_status\n",
    "hhs_geo_region\n",
    "census_msa\n",
    "household_adults\n",
    "household_children\n",
    "employment_industry\n",
    "employment_occupation"
   ]
  }
 ],
 "metadata": {
  "kernelspec": {
   "display_name": "Python 3",
   "language": "python",
   "name": "python3"
  },
  "language_info": {
   "codemirror_mode": {
    "name": "ipython",
    "version": 3
   },
   "file_extension": ".py",
   "mimetype": "text/x-python",
   "name": "python",
   "nbconvert_exporter": "python",
   "pygments_lexer": "ipython3",
   "version": "3.8.5"
  }
 },
 "nbformat": 4,
 "nbformat_minor": 4
}
