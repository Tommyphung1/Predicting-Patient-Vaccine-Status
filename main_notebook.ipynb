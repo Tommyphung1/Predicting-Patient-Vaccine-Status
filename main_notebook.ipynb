{
 "cells": [
  {
   "cell_type": "markdown",
   "metadata": {},
   "source": [
    "# Phase 3 Project\n",
    "**Client:** Providence (Most medical centers) <br>\n",
    "**Authors:** Tommy Phung"
   ]
  },
  {
   "cell_type": "markdown",
   "metadata": {},
   "source": [
    "## Overview\n",
    "With the growing doubts on vaccines effectivness, patients are questoning whether to take the Covid vaccine. We will be using the National 2009 H1N1 Flu Survey provided from [United States National Center for Health Statistics](https://www.cdc.gov/nchs/index.htm).\n",
    "We will be modeling to see if we can predict whether an individual have taken the Seasonal Vaccine based on several different features from the their response in the survey.\n",
    "\n",
    "\n",
    "***<p style=\"text-align: center;\">Features</p>***\n",
    "\n",
    "\n",
    "| Label                       | Description                                                                                                                                                                                                                                                                                                                                     |\n",
    "|:-----------------------------|-------------------------------------------------------------------------------------------------------------------------------------------------------------------------------------------------------------------------------------------------------------------------------------------------------------------------------------------------:|\n",
    "| h1n1_concern                | Level of concern about the H1N1 flu                                                                                                                                                                                                                                                                                                             |\n",
    "| h1n1_knowledge              | Level of knowledge about H1N1 flu                                                                                                                                                                                                                                                                                                               |\n",
    "| behavioral_antiviral_meds   | Has taken antiviral medications                                                                                                                                                                                                                                                                                                                 |\n",
    "| behavioral_avoidance        | Has avoided close contact with others with flu-like symptoms                                                                                                                                                                                                                                                                                     |\n",
    "| behavioral_face_mask        | Has bought a face mask                                                                                                                                                                                                                                                                                                                           |\n",
    "| behavioral_wash_hands       | Has frequently washed hands or used hand sanitizer                                                                                                                                                                                                                                                                                               |\n",
    "| behavioral_large_gatherings | Has reduced time at large gatherings                                                                                                                                                                                                                                                                                                             |\n",
    "| behavioral_outside_home     | Has reduced contact with people outside of own household                                                                                                                                                                                                                                                                                         |\n",
    "| behavioral_touch_face       | Has avoided touching eyes, nose, or mouth                                                                                                                                                                                                                                                                                                       |\n",
    "| doctor_recc_h1n1            | H1N1 flu vaccine was recommended by doctor                                                                                                                                                                                                                                                                                                       |\n",
    "| doctor_recc_seasonal        | Seasonal flu vaccine was recommended by doctor                                                                                                                                                                                                                                                                                                   |\n",
    "| chronic_med_condition       | Has a chronic medical conditions |\n",
    "| child_under_6_months        | Has regular close contact with a child under the age of six months                                                                  |\n",
    "| health_worker               | Is a healthcare worker                                                                                                                                                                                                                                                                                                                           |\n",
    "| health_insurance          | Has health insurance                                                                                                                                                                                                                                                                                                                               |\n",
    "| opinion_h1n1_vacc_effective | Respondent's opinion about H1N1 vaccine effectiveness                                                                                                                                                                                                                                                                                           |\n",
    "| opinion_h1n1_risk           | Respondent's opinion about risk of getting sick with H1N1 flu without vaccine                                                                                                                                                                                                                                                                   |\n",
    "| opinion_h1n1_sick_from_vacc | Respondent's worry of getting sick from taking H1N1 vaccine                                                                                                                                                                                                                                                                                     |\n",
    "| opinion_seas_vacc_effective | Respondent's opinion about seasonal flu vaccine effectiveness                                                                                                                                                                                                                                                                                   |\n",
    "| opinion_seas_risk           | Respondent's opinion about risk of getting sick with seasonal flu without vaccine                                                                                                                                                                                                                                                               |\n",
    "| opinion_seas_sick_from_vacc | Respondent's worry of getting sick from taking seasonal flu vaccine                                                                                                                                                                                                                                                                             |\n",
    "| age_group                   | Age group of respondent                                                                                                                                                                                                                                                                                                                         |\n",
    "| education                   | Self-reported education level                                                                                                                                                                                                                                                                                                                   |\n",
    "| race                        | Race of respondent                                                                                                                                                                                                                                                                                                                               |\n",
    "| sex                         | Sex of respondent                                                                                                                                                                                                                                                                                                                               |\n",
    "| income_poverty              | Household annual income of respondent with respect to 2008 Census poverty thresholds                                                                                                                                                                                                                                                             |\n",
    "| marital_status              | Marital status of respondent                                                                                                                                                                                                                                                                                                                     |\n",
    "| rent_or_own                 | Housing situation of respondent.                                                                                                                                                                                                                                                                                                                 |\n",
    "| employment_status           | Employment status of respondent.                                                                                                                                                                                                                                                                                                                 |\n",
    "| hhs_geo_region              | Respondent's residence using a 10-region geographic classification defined by the U.S. Dept. of Health and Human Services.                                                                                                                                         \n",
    "| census_msa                  | Respondent's residence within metropolitan statistical areas (MSA) as defined by the U.S. Census                                                                                                                                                                                                                                                 |\n",
    "| household_adults            | Number of other adults in household, top-coded to 3                                                                                                                                                                                                                                                                                             |\n",
    "| household_children          | Number of children in household, top-coded to 3                                                                                                                                                                                                                                                                                                 |\n",
    "| employment_industry         | Type of industry respondent is employed in. Values are represented as short random character strings                                                                                                                                                                                                                                             |\n",
    "| employment_occupation       | Type of occupation of respondent. Values are represented as short random character strings                                                                                                                                                                                                                                                       |\n",
    "\n",
    "\n",
    "***<p style=\"text-align: center;\">Targets</p>***\n",
    "\n",
    "| Label            | Description                                      |\n",
    "|------------------|--------------------------------------------------:|\n",
    "| h1n1_vaccine     | Whether respondent received H1N1 flu vaccine     |\n",
    "| seasonal_vaccine | Whether respondent received seasonal flu vaccine |\n",
    "\n",
    "For this model, we will be focusing the **season flu vaccine** label from the dataset."
   ]
  },
  {
   "cell_type": "markdown",
   "metadata": {},
   "source": [
    "## Import Libraries\n",
    "Majority of the libraries being used are from sklearn in order to format the data and create the regression models."
   ]
  },
  {
   "cell_type": "code",
   "execution_count": 1,
   "metadata": {},
   "outputs": [],
   "source": [
    "import pandas as pd    # Read the dataset into a dataframe and general adjustments to data points\n",
    "from sklearn.model_selection import train_test_split, GridSearchCV, cross_val_score    # Split dataset to training sets, Perform multiple iteractions and perform cross value scores\n",
    "from sklearn.preprocessing import MinMaxScaler, StandardScaler     # Scalers to scale the dataset \n",
    "from sklearn.metrics import precision_score, recall_score, accuracy_score, f1_score \n",
    "from sklearn.tree import DecisionTreeClassifier    # The basic regression model using Decision tree\n",
    "from sklearn.ensemble import RandomForestClassifier    # A more complex model with Random Forests\n",
    "import joblib    # Enable to load model previously made\n",
    "import matplotlib.pyplot as plt \n",
    "from sklearn.model_selection import KFold"
   ]
  },
  {
   "cell_type": "markdown",
   "metadata": {},
   "source": [
    "## Import Dataset\n",
    "The dataset was seperated into training dataset and testing dataset. The data only had the target results from the 'testing' set so we will only be using that for our modeling. <br>\n",
    "We will be focusing mainly on the seasonal vaccine. "
   ]
  },
  {
   "cell_type": "code",
   "execution_count": 23,
   "metadata": {},
   "outputs": [],
   "source": [
    "features = pd.read_csv('Data/training_set_features.csv')    # Original Dataset\n",
    "labels = pd.read_csv('Data/training_set_labels.csv')    # Original Dataset\n",
    "target = labels['seasonal_vaccine'].copy()    # Only the seasonal vaccine column"
   ]
  },
  {
   "cell_type": "markdown",
   "metadata": {},
   "source": [
    "## Business Understanding \n",
    "Vaccines are a useful way to prevent viral infections. One of the most common viral infections is influenza or most commonly known as the flu. The CDC recommended individuals to recieve the vaccine during the flu season of every year. However, since vaccines aren't manditory, individuals may deny them through personal beliefs or limited knowledge of the vaccine. Vaccines would be wasted where they could be used in other medical centers. <br> \n",
    "\n",
    "**For example, 1.1 billion Covid Vaccines were estimated to be wasted due to expired vaccines and supply chain issues.** <br>\n",
    "\n",
    "In order to give patients the the vaccines as efficently as possible, hospitals and medical center store vaccines to be administer quickly whenever requested. With the current dataset, we could potentially predict whether a patient would want a vaccine based on their answers on the survey. This way, medical center can order an adiquite amount of vaccines with minimual waste. \n"
   ]
  },
  {
   "cell_type": "markdown",
   "metadata": {},
   "source": [
    "## Data Exploration\n",
    "1. Check for duplicates, NaN's and Missing values  -> Missing values found for multiple.\n",
    "2. Check columns data type "
   ]
  },
  {
   "cell_type": "code",
   "execution_count": 3,
   "metadata": {},
   "outputs": [
    {
     "name": "stdout",
     "output_type": "stream",
     "text": [
      "No duplicates found\n",
      "Dataframes have missing values\n",
      "8 columns are missing values and needs to be removed\n"
     ]
    }
   ],
   "source": [
    "# 1. \n",
    "# Check for duplicates\n",
    "df_list = [features, labels]\n",
    "if sum([dataframe.duplicated().sum() for dataframe in df_list]) > 0:\n",
    "    print('Dataframes have duplicates')\n",
    "else:\n",
    "    print('No duplicates found')\n",
    "\n",
    "# Check for NaN / Missing Values\n",
    "if sum([dataframe.isna().sum().values.sum() for dataframe in df_list]) > 0:\n",
    "    print('Dataframes have missing values')\n",
    "else:\n",
    "    print('Dataframes have no missing values')\n",
    "\n",
    "drop_list = ['respondent_id']   # The list of columns to be dropped if over 20 of the data is missing, respondent id is not used in this model\n",
    "for name, feature in zip(features.columns, features.isna().sum()):\n",
    "    if(round(feature / len(features), 2) > .05):    # Cutoff filling missing values if more than 5% of the data is missing\n",
    "        drop_list.append(name)\n",
    "        \n",
    "drop_list = set(drop_list)\n",
    "print('{} columns are missing values and needs to be removed'.format(len(drop_list)))"
   ]
  },
  {
   "cell_type": "code",
   "execution_count": 4,
   "metadata": {},
   "outputs": [
    {
     "name": "stdout",
     "output_type": "stream",
     "text": [
      "There are 12 string data types that need to be converted. \n"
     ]
    }
   ],
   "source": [
    "2. \n",
    "# Check columns data types\n",
    "print('There are {} string data types that need to be converted. '.format(sum([len(features.select_dtypes(object).columns)])))"
   ]
  },
  {
   "cell_type": "markdown",
   "metadata": {},
   "source": [
    "## Data Understanding\n",
    "The dataset consist of binary and numerical entries based on their answers on a survey. There are 8 columns that have 5% of the data missing that were determined to be the cutoff to be removed. The remaining data will be filled with the approprate measurements. In order to model the dataset, all of the data type needs to be a numeric so dummy variables are needed for 12 of the columns.  "
   ]
  },
  {
   "cell_type": "markdown",
   "metadata": {},
   "source": [
    "## Data Preperation\n",
    "1. The dataframe are to be split into training set and testing set using 80/20 split.\n",
    "2. The columns with a large amount of missing values are dropped\n",
    "3. The columns with a small amount of missing values are replaced with the mode value of the feature\n",
    "4. The categorical data have dummy variables made for regression model\n",
    "5. Normalize the data to have the same scale"
   ]
  },
  {
   "cell_type": "code",
   "execution_count": 5,
   "metadata": {},
   "outputs": [],
   "source": [
    "## 1. Split the dataframe \n",
    "X_train, X_test, y_train, y_test = train_test_split(features, target, test_size= .20, random_state= 420)"
   ]
  },
  {
   "cell_type": "code",
   "execution_count": 6,
   "metadata": {},
   "outputs": [],
   "source": [
    "# 2. Remove columns with too many missing values\n",
    "training_prepped = X_train.drop(drop_list, axis = 1)\n",
    "testing_prepped = X_test.drop(drop_list, axis = 1)"
   ]
  },
  {
   "cell_type": "code",
   "execution_count": 7,
   "metadata": {},
   "outputs": [],
   "source": [
    "# 3. Fill remaining missing values \n",
    "missing_train = {}\n",
    "missing_test = {}\n",
    "\n",
    "for columns in training_prepped:\n",
    "    missing_train[columns] = training_prepped[columns].mode().values[0]\n",
    "for columns in testing_prepped:\n",
    "    missing_test[columns] = testing_prepped[columns].mode().values[0]\n",
    "    \n",
    "training_prepped.fillna(missing_train, inplace= True)\n",
    "testing_prepped.fillna(missing_test, inplace = True)"
   ]
  },
  {
   "cell_type": "code",
   "execution_count": 8,
   "metadata": {},
   "outputs": [],
   "source": [
    "# 4. Create dummy values for the string object datatype\n",
    "training_prepped = pd.get_dummies(training_prepped)\n",
    "testing_prepped = pd.get_dummies(testing_prepped)"
   ]
  },
  {
   "cell_type": "code",
   "execution_count": 15,
   "metadata": {},
   "outputs": [],
   "source": [
    "# 5. Scaler to normalize the dateframe\n",
    "scaler = MinMaxScaler()\n",
    "X_train_scaled = pd.DataFrame(scaler.fit_transform(training_prepped), columns= training_prepped.columns)\n",
    "X_test_scaled = pd.DataFrame(scaler.transform(testing_prepped), columns= testing_prepped.columns)"
   ]
  },
  {
   "cell_type": "markdown",
   "metadata": {},
   "source": [
    "## Baseline Model - Logistic regression model"
   ]
  },
  {
   "cell_type": "code",
   "execution_count": 10,
   "metadata": {},
   "outputs": [],
   "source": [
    "import statsmodels.api as sm\n",
    "from sklearn.linear_model import LogisticRegression\n",
    "\n",
    "logreg = LogisticRegression(fit_intercept=False, C=1e12, solver='liblinear')\n",
    "model_log = logreg.fit(scaled_training, y_train)"
   ]
  },
  {
   "cell_type": "code",
   "execution_count": 12,
   "metadata": {},
   "outputs": [
    {
     "name": "stdout",
     "output_type": "stream",
     "text": [
      "0.7600149756645451\n",
      "The model predict the training data 76.01% correctly.\n",
      "The model predict the testing data 76.0% correctly.\n",
      "0.751778588270742\n",
      "0.7582494734378658\n"
     ]
    }
   ],
   "source": [
    "import numpy as np\n",
    "\n",
    "y_pred_train = logreg.predict(scaled_training)\n",
    "y_pred_test = logreg.predict(scaled_testing)\n",
    "print(logreg.score(scaled_testing, y_test))\n",
    "correct_train = np.abs(y_pred_train == y_train).sum()\n",
    "correct_test = np.abs(y_pred_test == y_test).sum()\n",
    "print('The model predict the training data {}% correctly.'.format(round(correct_train / len(y_train)*100,2)))\n",
    "print('The model predict the testing data {}% correctly.'.format(round(correct_test / len(y_test)* 100,2)))\n",
    "print(cross_val_score(logreg, scaled_testing, y_test).mean())\n",
    "print(cross_val_score(logreg, scaled_training, y_train).mean())"
   ]
  },
  {
   "cell_type": "markdown",
   "metadata": {},
   "source": [
    "## Analysis\n",
    "The training data has a 81% accuracy but wasn't able to predict any of the testing dataset correctly"
   ]
  },
  {
   "cell_type": "markdown",
   "metadata": {},
   "source": [
    "## Baseline Regression Model - Decision Tree\n",
    "\n",
    "The baseline regression model I used was a Decision Tree. Majority of the parameters wasn't changed and a random state was set to allow reproductivity. "
   ]
  },
  {
   "cell_type": "code",
   "execution_count": 17,
   "metadata": {},
   "outputs": [],
   "source": [
    "tree_clf = DecisionTreeClassifier(criterion= 'entropy', random_state= 420)\n",
    "tree_model = tree_clf.fit(X_train_scaled,y_train)\n",
    "\n",
    "tree_scores = []\n",
    "tree_scores.append(tree_clf.score(X_train_scaled, y_train))\n",
    "tree_scores.append(tree_clf.score(X_test_scaled, y_test))\n",
    "tree_scores.append(cross_val_score(tree_clf, X_test_scaled, y_test, scoring= 'accuracy').mean())"
   ]
  },
  {
   "cell_type": "markdown",
   "metadata": {},
   "source": [
    "# Complex Regression Model - Random Forest Tree"
   ]
  },
  {
   "cell_type": "code",
   "execution_count": 21,
   "metadata": {},
   "outputs": [],
   "source": [
    "forest_clf = RandomForestClassifier(criterion= 'entropy', max_features = 20, random_state= 420)\n",
    "forest_model = forest_clf.fit(X_train_scaled,y_train)\n",
    "\n",
    "forest_scores = []\n",
    "forest_scores.append(forest_clf.score(X_train_scaled, y_train))\n",
    "forest_scores.append(forest_clf.score(X_test_scaled, y_test))\n",
    "forest_scores.append(cross_val_score(forest_clf, X_test_scaled, y_test, scoring= 'accuracy').mean())"
   ]
  },
  {
   "cell_type": "code",
   "execution_count": 33,
   "metadata": {},
   "outputs": [],
   "source": [
    " # with open('hyperparameter_model.pkl', 'wb') as f:\n",
    " #    joblib.dump(forest_grid_search, f)"
   ]
  },
  {
   "cell_type": "code",
   "execution_count": 37,
   "metadata": {},
   "outputs": [
    {
     "data": {
      "text/plain": [
       "{'criterion': 'entropy',\n",
       " 'max_depth': None,\n",
       " 'max_features': 10,\n",
       " 'min_samples_leaf': 6,\n",
       " 'min_samples_split': 5,\n",
       " 'n_estimators': 300}"
      ]
     },
     "execution_count": 37,
     "metadata": {},
     "output_type": "execute_result"
    }
   ],
   "source": [
    "# Model generation was used once with these parameters but was commented out due to length of processing the model and fitting it to the dataset\n",
    "# param_grid = {\n",
    "#                 'n_estimators' : [10, 30, 100, 300],\n",
    "#                 'criterion': ['gini', 'entropy'],\n",
    "#                 'max_depth' : [None, 2,3,4,5,6],\n",
    "#                 'min_samples_split' : [2,5,10],\n",
    "#                 'min_samples_leaf' : [1,2,3,4,5,6],\n",
    "#                 'max_features' : ['sqrt', 10, 20, 30]\n",
    "#              }\n",
    "# forest_clf = RandomForestClassifier()\n",
    "# forest_grid_search = GridSearchCV(forest_clf, param_grid, return_train_score= True, cv= 3)\n",
    "# forest_grid_search.fit(X_train_scaled, y_train)\n",
    "\n",
    "forest_grid_search.best_params_"
   ]
  },
  {
   "cell_type": "code",
   "execution_count": 34,
   "metadata": {},
   "outputs": [],
   "source": [
    "# with open('hyperparameter_model.pkl', 'rb') as f:\n",
    "#     forest_grid_search = joblib.load(f)\n",
    "grid_scores = []\n",
    "grid_scores.append(forest_grid_search.score(X_train_scaled, y_train))\n",
    "grid_scores.append(forest_grid_search.score(X_test_scaled, y_test))"
   ]
  },
  {
   "cell_type": "code",
   "execution_count": 35,
   "metadata": {},
   "outputs": [
    {
     "name": "stdout",
     "output_type": "stream",
     "text": [
      "Decision Tree Model\n",
      "Training Accuracy Score: 0.9999063889538966\n",
      "Testing Accuracy Score: 0.6542493448146761\n",
      "Cross Validation Score Mean: 0.6574268716956938 \n",
      "\n",
      "Random Forest Model\n",
      "Training Accuracy Score: 0.9998595834308448\n",
      "Testing Accuracy Score: 0.7529015350056159\n",
      "Cross Validation Score Mean: 0.7448539536057011 \n",
      "\n",
      "Random Forest with Tuning Model\n",
      "Training Accuracy Score: 0.8367423355956003\n",
      "Testing Accuracy Score: 0.7648820666417072\n"
     ]
    }
   ],
   "source": [
    "for name, score in zip(['Decision Tree', 'Random Forest', 'Random Forest with Tuning']\n",
    "                       ,[tree_scores, forest_scores, grid_scores]):\n",
    "    \n",
    "    print(f'{name} Model')\n",
    "    print('Training Accuracy Score: {}'.format(score[0]))\n",
    "    print('Testing Accuracy Score: {}'.format(score[1]))\n",
    "    if name in ['Decision Tree', 'Random Forest']:\n",
    "        print('Cross Validation Score Mean: {} \\n'.format(score[2]))"
   ]
  },
  {
   "cell_type": "code",
   "execution_count": 26,
   "metadata": {},
   "outputs": [
    {
     "data": {
      "text/plain": [
       "0.666667    8498\n",
       "0.333333    6538\n",
       "1.000000    3710\n",
       "0.000000    2619\n",
       "Name: h1n1_concern, dtype: int64"
      ]
     },
     "metadata": {},
     "output_type": "display_data"
    },
    {
     "data": {
      "text/plain": [
       "0.5    11746\n",
       "1.0     7604\n",
       "0.0     2015\n",
       "Name: h1n1_knowledge, dtype: int64"
      ]
     },
     "metadata": {},
     "output_type": "display_data"
    },
    {
     "data": {
      "text/plain": [
       "0.0    20319\n",
       "1.0     1046\n",
       "Name: behavioral_antiviral_meds, dtype: int64"
      ]
     },
     "metadata": {},
     "output_type": "display_data"
    },
    {
     "data": {
      "text/plain": [
       "1.0    15531\n",
       "0.0     5834\n",
       "Name: behavioral_avoidance, dtype: int64"
      ]
     },
     "metadata": {},
     "output_type": "display_data"
    },
    {
     "data": {
      "text/plain": [
       "0.0    19875\n",
       "1.0     1490\n",
       "Name: behavioral_face_mask, dtype: int64"
      ]
     },
     "metadata": {},
     "output_type": "display_data"
    },
    {
     "data": {
      "text/plain": [
       "1.0    17620\n",
       "0.0     3745\n",
       "Name: behavioral_wash_hands, dtype: int64"
      ]
     },
     "metadata": {},
     "output_type": "display_data"
    },
    {
     "data": {
      "text/plain": [
       "0.0    13732\n",
       "1.0     7633\n",
       "Name: behavioral_large_gatherings, dtype: int64"
      ]
     },
     "metadata": {},
     "output_type": "display_data"
    },
    {
     "data": {
      "text/plain": [
       "0.0    14184\n",
       "1.0     7181\n",
       "Name: behavioral_outside_home, dtype: int64"
      ]
     },
     "metadata": {},
     "output_type": "display_data"
    },
    {
     "data": {
      "text/plain": [
       "1.0    14533\n",
       "0.0     6832\n",
       "Name: behavioral_touch_face, dtype: int64"
      ]
     },
     "metadata": {},
     "output_type": "display_data"
    },
    {
     "data": {
      "text/plain": [
       "0.0    15507\n",
       "1.0     5858\n",
       "Name: chronic_med_condition, dtype: int64"
      ]
     },
     "metadata": {},
     "output_type": "display_data"
    },
    {
     "data": {
      "text/plain": [
       "0.0    19613\n",
       "1.0     1752\n",
       "Name: child_under_6_months, dtype: int64"
      ]
     },
     "metadata": {},
     "output_type": "display_data"
    },
    {
     "data": {
      "text/plain": [
       "0.0    19002\n",
       "1.0     2363\n",
       "Name: health_worker, dtype: int64"
      ]
     },
     "metadata": {},
     "output_type": "display_data"
    },
    {
     "data": {
      "text/plain": [
       "0.75    9611\n",
       "1.00    5765\n",
       "0.50    3770\n",
       "0.25    1508\n",
       "0.00     711\n",
       "Name: opinion_h1n1_vacc_effective, dtype: int64"
      ]
     },
     "metadata": {},
     "output_type": "display_data"
    },
    {
     "data": {
      "text/plain": [
       "0.25    8171\n",
       "0.00    6546\n",
       "0.75    4336\n",
       "1.00    1411\n",
       "0.50     901\n",
       "Name: opinion_h1n1_risk, dtype: int64"
      ]
     },
     "metadata": {},
     "output_type": "display_data"
    },
    {
     "data": {
      "text/plain": [
       "0.25    7609\n",
       "0.00    7225\n",
       "0.75    4687\n",
       "1.00    1731\n",
       "0.50     113\n",
       "Name: opinion_h1n1_sick_from_vacc, dtype: int64"
      ]
     },
     "metadata": {},
     "output_type": "display_data"
    },
    {
     "data": {
      "text/plain": [
       "0.75    9692\n",
       "1.00    7949\n",
       "0.25    1776\n",
       "0.00     979\n",
       "0.50     969\n",
       "Name: opinion_seas_vacc_effective, dtype: int64"
      ]
     },
     "metadata": {},
     "output_type": "display_data"
    },
    {
     "data": {
      "text/plain": [
       "0.25    7572\n",
       "0.75    6085\n",
       "0.00    4805\n",
       "1.00    2356\n",
       "0.50     547\n",
       "Name: opinion_seas_risk, dtype: int64"
      ]
     },
     "metadata": {},
     "output_type": "display_data"
    },
    {
     "data": {
      "text/plain": [
       "0.00    9921\n",
       "0.25    6144\n",
       "0.75    3852\n",
       "1.00    1378\n",
       "0.50      70\n",
       "Name: opinion_seas_sick_from_vacc, dtype: int64"
      ]
     },
     "metadata": {},
     "output_type": "display_data"
    },
    {
     "data": {
      "text/plain": [
       "0.333333    11726\n",
       "0.000000     6482\n",
       "0.666667     2257\n",
       "1.000000      900\n",
       "Name: household_adults, dtype: int64"
      ]
     },
     "metadata": {},
     "output_type": "display_data"
    },
    {
     "data": {
      "text/plain": [
       "0.000000    15156\n",
       "0.333333     2507\n",
       "0.666667     2318\n",
       "1.000000     1384\n",
       "Name: household_children, dtype: int64"
      ]
     },
     "metadata": {},
     "output_type": "display_data"
    },
    {
     "data": {
      "text/plain": [
       "0.0    17231\n",
       "1.0     4134\n",
       "Name: age_group_18 - 34 Years, dtype: int64"
      ]
     },
     "metadata": {},
     "output_type": "display_data"
    },
    {
     "data": {
      "text/plain": [
       "0.0    18276\n",
       "1.0     3089\n",
       "Name: age_group_35 - 44 Years, dtype: int64"
      ]
     },
     "metadata": {},
     "output_type": "display_data"
    },
    {
     "data": {
      "text/plain": [
       "0.0    17181\n",
       "1.0     4184\n",
       "Name: age_group_45 - 54 Years, dtype: int64"
      ]
     },
     "metadata": {},
     "output_type": "display_data"
    },
    {
     "data": {
      "text/plain": [
       "0.0    16902\n",
       "1.0     4463\n",
       "Name: age_group_55 - 64 Years, dtype: int64"
      ]
     },
     "metadata": {},
     "output_type": "display_data"
    },
    {
     "data": {
      "text/plain": [
       "0.0    15870\n",
       "1.0     5495\n",
       "Name: age_group_65+ Years, dtype: int64"
      ]
     },
     "metadata": {},
     "output_type": "display_data"
    },
    {
     "data": {
      "text/plain": [
       "0.0    16725\n",
       "1.0     4640\n",
       "Name: education_12 Years, dtype: int64"
      ]
     },
     "metadata": {},
     "output_type": "display_data"
    },
    {
     "data": {
      "text/plain": [
       "0.0    19456\n",
       "1.0     1909\n",
       "Name: education_< 12 Years, dtype: int64"
      ]
     },
     "metadata": {},
     "output_type": "display_data"
    },
    {
     "data": {
      "text/plain": [
       "0.0    12198\n",
       "1.0     9167\n",
       "Name: education_College Graduate, dtype: int64"
      ]
     },
     "metadata": {},
     "output_type": "display_data"
    },
    {
     "data": {
      "text/plain": [
       "0.0    15716\n",
       "1.0     5649\n",
       "Name: education_Some College, dtype: int64"
      ]
     },
     "metadata": {},
     "output_type": "display_data"
    },
    {
     "data": {
      "text/plain": [
       "0.0    19669\n",
       "1.0     1696\n",
       "Name: race_Black, dtype: int64"
      ]
     },
     "metadata": {},
     "output_type": "display_data"
    },
    {
     "data": {
      "text/plain": [
       "0.0    19958\n",
       "1.0     1407\n",
       "Name: race_Hispanic, dtype: int64"
      ]
     },
     "metadata": {},
     "output_type": "display_data"
    },
    {
     "data": {
      "text/plain": [
       "0.0    20094\n",
       "1.0     1271\n",
       "Name: race_Other or Multiple, dtype: int64"
      ]
     },
     "metadata": {},
     "output_type": "display_data"
    },
    {
     "data": {
      "text/plain": [
       "1.0    16991\n",
       "0.0     4374\n",
       "Name: race_White, dtype: int64"
      ]
     },
     "metadata": {},
     "output_type": "display_data"
    },
    {
     "data": {
      "text/plain": [
       "1.0    12728\n",
       "0.0     8637\n",
       "Name: sex_Female, dtype: int64"
      ]
     },
     "metadata": {},
     "output_type": "display_data"
    },
    {
     "data": {
      "text/plain": [
       "0.0    12728\n",
       "1.0     8637\n",
       "Name: sex_Male, dtype: int64"
      ]
     },
     "metadata": {},
     "output_type": "display_data"
    },
    {
     "data": {
      "text/plain": [
       "1.0    11969\n",
       "0.0     9396\n",
       "Name: marital_status_Married, dtype: int64"
      ]
     },
     "metadata": {},
     "output_type": "display_data"
    },
    {
     "data": {
      "text/plain": [
       "0.0    11969\n",
       "1.0     9396\n",
       "Name: marital_status_Not Married, dtype: int64"
      ]
     },
     "metadata": {},
     "output_type": "display_data"
    },
    {
     "data": {
      "text/plain": [
       "1.0    12027\n",
       "0.0     9338\n",
       "Name: employment_status_Employed, dtype: int64"
      ]
     },
     "metadata": {},
     "output_type": "display_data"
    },
    {
     "data": {
      "text/plain": [
       "0.0    13202\n",
       "1.0     8163\n",
       "Name: employment_status_Not in Labor Force, dtype: int64"
      ]
     },
     "metadata": {},
     "output_type": "display_data"
    },
    {
     "data": {
      "text/plain": [
       "0.0    20190\n",
       "1.0     1175\n",
       "Name: employment_status_Unemployed, dtype: int64"
      ]
     },
     "metadata": {},
     "output_type": "display_data"
    },
    {
     "data": {
      "text/plain": [
       "0.0    19726\n",
       "1.0     1639\n",
       "Name: hhs_geo_region_atmpeygn, dtype: int64"
      ]
     },
     "metadata": {},
     "output_type": "display_data"
    },
    {
     "data": {
      "text/plain": [
       "0.0    19080\n",
       "1.0     2285\n",
       "Name: hhs_geo_region_bhuqouqj, dtype: int64"
      ]
     },
     "metadata": {},
     "output_type": "display_data"
    },
    {
     "data": {
      "text/plain": [
       "0.0    20471\n",
       "1.0      894\n",
       "Name: hhs_geo_region_dqpwygqj, dtype: int64"
      ]
     },
     "metadata": {},
     "output_type": "display_data"
    },
    {
     "data": {
      "text/plain": [
       "0.0    18748\n",
       "1.0     2617\n",
       "Name: hhs_geo_region_fpwskwrf, dtype: int64"
      ]
     },
     "metadata": {},
     "output_type": "display_data"
    },
    {
     "data": {
      "text/plain": [
       "0.0    19074\n",
       "1.0     2291\n",
       "Name: hhs_geo_region_kbazzjca, dtype: int64"
      ]
     },
     "metadata": {},
     "output_type": "display_data"
    },
    {
     "data": {
      "text/plain": [
       "0.0    19713\n",
       "1.0     1652\n",
       "Name: hhs_geo_region_lrircsnp, dtype: int64"
      ]
     },
     "metadata": {},
     "output_type": "display_data"
    },
    {
     "data": {
      "text/plain": [
       "0.0    17894\n",
       "1.0     3471\n",
       "Name: hhs_geo_region_lzgpxyit, dtype: int64"
      ]
     },
     "metadata": {},
     "output_type": "display_data"
    },
    {
     "data": {
      "text/plain": [
       "0.0    19532\n",
       "1.0     1833\n",
       "Name: hhs_geo_region_mlyzmhmf, dtype: int64"
      ]
     },
     "metadata": {},
     "output_type": "display_data"
    },
    {
     "data": {
      "text/plain": [
       "0.0    19106\n",
       "1.0     2259\n",
       "Name: hhs_geo_region_oxchjgsf, dtype: int64"
      ]
     },
     "metadata": {},
     "output_type": "display_data"
    },
    {
     "data": {
      "text/plain": [
       "0.0    18941\n",
       "1.0     2424\n",
       "Name: hhs_geo_region_qufhixun, dtype: int64"
      ]
     },
     "metadata": {},
     "output_type": "display_data"
    },
    {
     "data": {
      "text/plain": [
       "0.0    12118\n",
       "1.0     9247\n",
       "Name: census_msa_MSA, Not Principle  City, dtype: int64"
      ]
     },
     "metadata": {},
     "output_type": "display_data"
    },
    {
     "data": {
      "text/plain": [
       "0.0    15015\n",
       "1.0     6350\n",
       "Name: census_msa_MSA, Principle City, dtype: int64"
      ]
     },
     "metadata": {},
     "output_type": "display_data"
    },
    {
     "data": {
      "text/plain": [
       "0.0    15597\n",
       "1.0     5768\n",
       "Name: census_msa_Non-MSA, dtype: int64"
      ]
     },
     "metadata": {},
     "output_type": "display_data"
    }
   ],
   "source": [
    "for column in X_test_scaled.columns:\n",
    "    display(X_train_scaled[column].value_counts())"
   ]
  },
  {
   "cell_type": "code",
   "execution_count": null,
   "metadata": {},
   "outputs": [],
   "source": [
    "print(Average cross_val_score(tree_clf, scaled_testing, y_test['value_countsal_vaccine'], scoring= 'accuracy').mean()"
   ]
  },
  {
   "cell_type": "code",
   "execution_count": null,
   "metadata": {},
   "outputs": [],
   "source": [
    "cross_val_score(forest_clf, scaled_testing, y_test['seasonal_vaccine'], scoring= 'accuracy').mean()"
   ]
  },
  {
   "cell_type": "code",
   "execution_count": null,
   "metadata": {},
   "outputs": [],
   "source": [
    "cross_val_score(forest_grid_search, scaled_testing, y_test['seasonal_vaccine'], scoring= 'accuracy').mean()"
   ]
  }
 ],
 "metadata": {
  "kernelspec": {
   "display_name": "Python 3",
   "language": "python",
   "name": "python3"
  },
  "language_info": {
   "codemirror_mode": {
    "name": "ipython",
    "version": 3
   },
   "file_extension": ".py",
   "mimetype": "text/x-python",
   "name": "python",
   "nbconvert_exporter": "python",
   "pygments_lexer": "ipython3",
   "version": "3.8.5"
  }
 },
 "nbformat": 4,
 "nbformat_minor": 4
}
