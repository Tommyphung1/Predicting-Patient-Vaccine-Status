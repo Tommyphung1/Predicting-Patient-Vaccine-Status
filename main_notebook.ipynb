{
 "cells": [
  {
   "cell_type": "markdown",
   "metadata": {},
   "source": [
    "# Phase 3 Project\n",
    "Client: <br>\n",
    "Authors: Tommy Phung"
   ]
  },
  {
   "cell_type": "markdown",
   "metadata": {},
   "source": [
    "## Overview\n",
    "With the growing doubts on vaccines effectivness, patients are questoning whether to take the Covid vaccine. We will be using the National 2009 H1N1 Flu Survey provided from [United States National Center for Health Statistics](https://www.cdc.gov/nchs/index.htm).\n",
    "We will be modeling to see if we can predict whether an individual have taken the H1N1 Vaccine based on several different features from the their response in the survey.\n",
    "\n",
    "\n",
    "***<p style=\"text-align: center;\">Features</p>***\n",
    "\n",
    "\n",
    "| Label                       | Description                                                                                                                                                                                                                                                                                                                                     |\n",
    "|:-----------------------------|-------------------------------------------------------------------------------------------------------------------------------------------------------------------------------------------------------------------------------------------------------------------------------------------------------------------------------------------------:|\n",
    "| h1n1_concern                | Level of concern about the H1N1 flu                                                                                                                                                                                                                                                                                                             |\n",
    "| h1n1_knowledge              | Level of knowledge about H1N1 flu                                                                                                                                                                                                                                                                                                               |\n",
    "| behavioral_antiviral_meds   | Has taken antiviral medications                                                                                                                                                                                                                                                                                                                 |\n",
    "| behavioral_avoidance        | Has avoided close contact with others with flu-like symptoms                                                                                                                                                                                                                                                                                     |\n",
    "| behavioral_face_mask        | Has bought a face mask                                                                                                                                                                                                                                                                                                                           |\n",
    "| behavioral_wash_hands       | Has frequently washed hands or used hand sanitizer                                                                                                                                                                                                                                                                                               |\n",
    "| behavioral_large_gatherings | Has reduced time at large gatherings                                                                                                                                                                                                                                                                                                             |\n",
    "| behavioral_outside_home     | Has reduced contact with people outside of own household                                                                                                                                                                                                                                                                                         |\n",
    "| behavioral_touch_face       | Has avoided touching eyes, nose, or mouth                                                                                                                                                                                                                                                                                                       |\n",
    "| doctor_recc_h1n1            | H1N1 flu vaccine was recommended by doctor                                                                                                                                                                                                                                                                                                       |\n",
    "| doctor_recc_seasonal        | Seasonal flu vaccine was recommended by doctor                                                                                                                                                                                                                                                                                                   |\n",
    "| chronic_med_condition       | Has a chronic medical conditions |\n",
    "| child_under_6_months        | Has regular close contact with a child under the age of six months                                                                  |\n",
    "| health_worker               | Is a healthcare worker                                                                                                                                                                                                                                                                                                                           |\n",
    "| health_insurance          | Has health insurance                                                                                                                                                                                                                                                                                                                               |\n",
    "| opinion_h1n1_vacc_effective | Respondent's opinion about H1N1 vaccine effectiveness                                                                                                                                                                                                                                                                                           |\n",
    "| opinion_h1n1_risk           | Respondent's opinion about risk of getting sick with H1N1 flu without vaccine                                                                                                                                                                                                                                                                   |\n",
    "| opinion_h1n1_sick_from_vacc | Respondent's worry of getting sick from taking H1N1 vaccine                                                                                                                                                                                                                                                                                     |\n",
    "| opinion_seas_vacc_effective | Respondent's opinion about seasonal flu vaccine effectiveness                                                                                                                                                                                                                                                                                   |\n",
    "| opinion_seas_risk           | Respondent's opinion about risk of getting sick with seasonal flu without vaccine                                                                                                                                                                                                                                                               |\n",
    "| opinion_seas_sick_from_vacc | Respondent's worry of getting sick from taking seasonal flu vaccine                                                                                                                                                                                                                                                                             |\n",
    "| age_group                   | Age group of respondent                                                                                                                                                                                                                                                                                                                         |\n",
    "| education                   | Self-reported education level                                                                                                                                                                                                                                                                                                                   |\n",
    "| race                        | Race of respondent                                                                                                                                                                                                                                                                                                                               |\n",
    "| sex                         | Sex of respondent                                                                                                                                                                                                                                                                                                                               |\n",
    "| income_poverty              | Household annual income of respondent with respect to 2008 Census poverty thresholds                                                                                                                                                                                                                                                             |\n",
    "| marital_status              | Marital status of respondent                                                                                                                                                                                                                                                                                                                     |\n",
    "| rent_or_own                 | Housing situation of respondent.                                                                                                                                                                                                                                                                                                                 |\n",
    "| employment_status           | Employment status of respondent.                                                                                                                                                                                                                                                                                                                 |\n",
    "| hhs_geo_region              | Respondent's residence using a 10-region geographic classification defined by the U.S. Dept. of Health and Human Services.                                                                                                                                         \n",
    "| census_msa                  | Respondent's residence within metropolitan statistical areas (MSA) as defined by the U.S. Census                                                                                                                                                                                                                                                 |\n",
    "| household_adults            | Number of other adults in household, top-coded to 3                                                                                                                                                                                                                                                                                             |\n",
    "| household_children          | Number of children in household, top-coded to 3                                                                                                                                                                                                                                                                                                 |\n",
    "| employment_industry         | Type of industry respondent is employed in. Values are represented as short random character strings                                                                                                                                                                                                                                             |\n",
    "| employment_occupation       | Type of occupation of respondent. Values are represented as short random character strings                                                                                                                                                                                                                                                       |\n",
    "\n",
    "\n",
    "***<p style=\"text-align: center;\">Targets</p>***\n",
    "\n",
    "| Label            | Description                                      |\n",
    "|------------------|--------------------------------------------------:|\n",
    "| h1n1_vaccine     | Whether respondent received H1N1 flu vaccine     |\n",
    "| seasonal_vaccine | Whether respondent received seasonal flu vaccine |"
   ]
  },
  {
   "cell_type": "markdown",
   "metadata": {},
   "source": [
    "## Import Dataset\n",
    "The dataset was seperated into training dataset and testing dataset. Each was loaded with no change needed. "
   ]
  },
  {
   "cell_type": "code",
   "execution_count": 1,
   "metadata": {},
   "outputs": [],
   "source": [
    "import pandas as pd\n",
    "features = pd.read_csv('Data/training_set_features.csv')\n",
    "labels = pd.read_csv('Data/training_set_labels.csv')"
   ]
  },
  {
   "cell_type": "markdown",
   "metadata": {},
   "source": [
    "## Business Understanding \n",
    "\n",
    "In order to have enough vaccines for the coming season, providers need an estimate on how many vaccines to have in hand. Using the dataset, we can create a model to predict whether a patient would be taking the vaccine. This model should give providers a rough estimate on how many vaccines to make for any given location. "
   ]
  },
  {
   "cell_type": "markdown",
   "metadata": {},
   "source": [
    "## Data Exploration\n",
    "1. Check for duplicates, NaN's and Missing values  -> Missing values found for multiple.\n",
    "2. Check columns data type "
   ]
  },
  {
   "cell_type": "code",
   "execution_count": 2,
   "metadata": {},
   "outputs": [
    {
     "name": "stdout",
     "output_type": "stream",
     "text": [
      "No duplicates found\n",
      "Dataframes have missing values\n",
      "8 columns are missing values and needs to be removed\n"
     ]
    }
   ],
   "source": [
    "# 1. \n",
    "# Check for duplicates\n",
    "df_list = [features, labels]\n",
    "if sum([dataframe.duplicated().sum() for dataframe in df_list]) > 0:\n",
    "    print('Dataframes have duplicates')\n",
    "else:\n",
    "    print('No duplicates found')\n",
    "\n",
    "# Check for NaN / Missing Values\n",
    "if sum([dataframe.isna().sum().values.sum() for dataframe in df_list]) > 0:\n",
    "    print('Dataframes have missing values')\n",
    "else:\n",
    "    print('Dataframes have no missing values')\n",
    "\n",
    "drop_list = ['respondent_id']   # The list of columns to be dropped if over 20 of the data is missing, respondent id is not used in this model\n",
    "for name, feature in zip(features.columns, features.isna().sum()):\n",
    "    if(round(feature / len(features), 2) > .05):    # Cutoff filling missing values if more than 5% of the data is missing\n",
    "        drop_list.append(name)\n",
    "        \n",
    "drop_list = set(drop_list)\n",
    "print('{} columns are missing values and needs to be removed'.format(len(drop_list)))"
   ]
  },
  {
   "cell_type": "code",
   "execution_count": 3,
   "metadata": {},
   "outputs": [
    {
     "name": "stdout",
     "output_type": "stream",
     "text": [
      "There are 12 string data types that need to be converted. \n"
     ]
    }
   ],
   "source": [
    "2. \n",
    "# Check columns data types\n",
    "print('There are {} string data types that need to be converted. '.format(sum([len(features.select_dtypes(object).columns)])))"
   ]
  },
  {
   "cell_type": "markdown",
   "metadata": {},
   "source": [
    "1. **Solution** : Remove columns with too many missing values and replace the missing values for the columns with the appropirote values. (Mode, Median or Mean \n",
    "2. **Solution** : Convert the columns using one hot encoding or mapping."
   ]
  },
  {
   "cell_type": "markdown",
   "metadata": {},
   "source": [
    "## Data Preperation\n",
    "1. The dataframe are to be split into training set and testing set using 80/20 split.\n",
    "2. The columns with a large amount of missing values are dropped\n",
    "3. The columns with a small amount of missing values are replaced with the mode value of the feature\n",
    "4. The categorical data have dummy variables made for regression model\n",
    "5. Normalize the data to have the same scale"
   ]
  },
  {
   "cell_type": "code",
   "execution_count": 14,
   "metadata": {},
   "outputs": [],
   "source": [
    "from sklearn.model_selection import train_test_split\n",
    "from sklearn.preprocessing import MinMaxScaler"
   ]
  },
  {
   "cell_type": "code",
   "execution_count": null,
   "metadata": {},
   "outputs": [],
   "source": [
    "## 1. Split the dataframe \n",
    "X_train, X_test, y_train, y_test = train_test_split(features, labels, test_size= .20)sa"
   ]
  },
  {
   "cell_type": "code",
   "execution_count": 5,
   "metadata": {},
   "outputs": [],
   "source": [
    "# 2. Remove columns with too many missing values\n",
    "training_prepped = X_train.drop(drop_list, axis = 1)\n",
    "testing_prepped = X_test.drop(drop_list, axis = 1)"
   ]
  },
  {
   "cell_type": "code",
   "execution_count": 12,
   "metadata": {},
   "outputs": [
    {
     "ename": "SyntaxError",
     "evalue": "invalid syntax (<ipython-input-12-2d907e53a0ba>, line 1)",
     "output_type": "error",
     "traceback": [
      "\u001b[1;36m  File \u001b[1;32m\"<ipython-input-12-2d907e53a0ba>\"\u001b[1;36m, line \u001b[1;32m1\u001b[0m\n\u001b[1;33m    from sklearn.\u001b[0m\n\u001b[1;37m                 ^\u001b[0m\n\u001b[1;31mSyntaxError\u001b[0m\u001b[1;31m:\u001b[0m invalid syntax\n"
     ]
    }
   ],
   "source": [
    "\n",
    "missing_train = {}\n",
    "missing_test = {}\n",
    "for columns in training_prepped:\n",
    "    missing_train[columns] = training_prepped[columns].mode().values[0]\n",
    "for columns in testing_prepped:\n",
    "    missing_test[columns] = testing_prepped[columns].mode().values[0]"
   ]
  },
  {
   "cell_type": "code",
   "execution_count": 7,
   "metadata": {},
   "outputs": [],
   "source": [
    "training_prepped.fillna(missing_train, inplace= True)\n",
    "testing_prepped.fillna(missing_test, inplace = True)"
   ]
  },
  {
   "cell_type": "code",
   "execution_count": 8,
   "metadata": {},
   "outputs": [],
   "source": [
    "2. \n",
    "# Create dummy values for the string object datatype\n",
    "\n",
    "training_prepped = pd.get_dummies(training_prepped)\n",
    "testing_prepped = pd.get_dummies(testing_prepped)"
   ]
  },
  {
   "cell_type": "code",
   "execution_count": 19,
   "metadata": {},
   "outputs": [],
   "source": [
    "# 5. Scaler to normalize the dateframe\n",
    "scaler = MinMaxScaler()\n",
    "scaled_training = pd.DataFrame(scaler.fit_transform(training_prepped), columns= training_prepped.columns)"
   ]
  },
  {
   "cell_type": "markdown",
   "metadata": {},
   "source": [
    "## Baseline Model - Logistic regression model"
   ]
  },
  {
   "cell_type": "code",
   "execution_count": 9,
   "metadata": {},
   "outputs": [],
   "source": [
    "import statsmodels.api as sm\n",
    "from sklearn.linear_model import LogisticRegression\n",
    "\n",
    "logreg = LogisticRegression(fit_intercept=False, C=1e12, solver='liblinear')\n",
    "model_log = logreg.fit(training_prepped, y_train['seasonal_vaccine'])"
   ]
  },
  {
   "cell_type": "code",
   "execution_count": 10,
   "metadata": {},
   "outputs": [
    {
     "name": "stdout",
     "output_type": "stream",
     "text": [
      "The model predict the training data 76.0% correctly.\n",
      "The model predict the testing data 75.63% correctly.\n"
     ]
    }
   ],
   "source": [
    "import numpy as np\n",
    "\n",
    "y_pred_train = logreg.predict(training_prepped)\n",
    "y_pred_test = logreg.predict(testing_prepped)\n",
    "\n",
    "correct_train = np.abs(y_pred_train == y_train['seasonal_vaccine']).sum()\n",
    "correct_test = np.abs(y_pred_test == y_test['seasonal_vaccine']).sum()\n",
    "print('The model predict the training data {}% correctly.'.format(round(correct_train / len(y_train)*100,2)))\n",
    "print('The model predict the testing data {}% correctly.'.format(round(correct_test / len(y_test)* 100,2)))"
   ]
  },
  {
   "cell_type": "markdown",
   "metadata": {},
   "source": [
    "## Analysis\n",
    "The training data has a 81% accuracy but wasn't able to predict any of the testing dataset correctly"
   ]
  },
  {
   "cell_type": "code",
   "execution_count": 11,
   "metadata": {},
   "outputs": [
    {
     "ename": "NameError",
     "evalue": "name 'training_labels' is not defined",
     "output_type": "error",
     "traceback": [
      "\u001b[1;31m---------------------------------------------------------------------------\u001b[0m",
      "\u001b[1;31mNameError\u001b[0m                                 Traceback (most recent call last)",
      "\u001b[1;32m<ipython-input-11-511b22cd804b>\u001b[0m in \u001b[0;36m<module>\u001b[1;34m\u001b[0m\n\u001b[0;32m      1\u001b[0m \u001b[0mX\u001b[0m \u001b[1;33m=\u001b[0m \u001b[0mtraining_prepped\u001b[0m\u001b[1;33m\u001b[0m\u001b[1;33m\u001b[0m\u001b[0m\n\u001b[1;32m----> 2\u001b[1;33m \u001b[0my\u001b[0m \u001b[1;33m=\u001b[0m \u001b[0mtraining_labels\u001b[0m\u001b[1;33m[\u001b[0m\u001b[1;34m'h1n1_vaccine'\u001b[0m\u001b[1;33m]\u001b[0m\u001b[1;33m\u001b[0m\u001b[1;33m\u001b[0m\u001b[0m\n\u001b[0m\u001b[0;32m      3\u001b[0m \u001b[1;33m\u001b[0m\u001b[0m\n\u001b[0;32m      4\u001b[0m \u001b[0mlog_model\u001b[0m \u001b[1;33m=\u001b[0m \u001b[0msm\u001b[0m\u001b[1;33m.\u001b[0m\u001b[0mLogit\u001b[0m\u001b[1;33m(\u001b[0m\u001b[0my\u001b[0m\u001b[1;33m,\u001b[0m \u001b[0msm\u001b[0m\u001b[1;33m.\u001b[0m\u001b[0madd_constant\u001b[0m\u001b[1;33m(\u001b[0m\u001b[0mX\u001b[0m\u001b[1;33m)\u001b[0m\u001b[1;33m)\u001b[0m\u001b[1;33m\u001b[0m\u001b[1;33m\u001b[0m\u001b[0m\n\u001b[0;32m      5\u001b[0m \u001b[0mlog_results\u001b[0m \u001b[1;33m=\u001b[0m \u001b[0mlog_model\u001b[0m\u001b[1;33m.\u001b[0m\u001b[0mfit\u001b[0m\u001b[1;33m(\u001b[0m\u001b[1;33m)\u001b[0m\u001b[1;33m\u001b[0m\u001b[1;33m\u001b[0m\u001b[0m\n",
      "\u001b[1;31mNameError\u001b[0m: name 'training_labels' is not defined"
     ]
    }
   ],
   "source": [
    "X = training_prepped\n",
    "y = training_labels['h1n1_vaccine']\n",
    "\n",
    "log_model = sm.Logit(y, sm.add_constant(X))\n",
    "log_results = log_model.fit()\n",
    "print(log_results.summary())"
   ]
  },
  {
   "cell_type": "code",
   "execution_count": null,
   "metadata": {},
   "outputs": [],
   "source": [
    "h1n1_concern\n",
    "h1n1_knowledge\n",
    "behavioral_antiviral_meds\n",
    "behavioral_avoidance\n",
    "behavioral_face_mask \n",
    "behavioral_wash_hands\n",
    "behavioral_large_gatherings\n",
    "behavioral_outside_home\n",
    "behavioral_touch_face\n",
    "doctor_recc_h1n1\n",
    "doctor_recc_seasonal\n",
    "chronic_med_condition\n",
    "child_under_6_months\n",
    "health_worker\n",
    "health_insurance'\n",
    "opinion_h1n1_vacc_effective\n",
    "opinion_h1n1_risk\n",
    "opinion_h1n1_sick_from_vacc\n",
    "opinion_seas_vacc_effective\n",
    "opinion_seas_risk\n",
    "opinion_seas_sick_from_vacc\n",
    "age_group\n",
    "education\n",
    "race\n",
    "sex\n",
    "income_poverty\n",
    "marital_status\n",
    "rent_or_own\n",
    "employment_status\n",
    "hhs_geo_region\n",
    "census_msa\n",
    "household_adults\n",
    "household_children\n",
    "employment_industry\n",
    "employment_occupation"
   ]
  }
 ],
 "metadata": {
  "kernelspec": {
   "display_name": "Python 3",
   "language": "python",
   "name": "python3"
  },
  "language_info": {
   "codemirror_mode": {
    "name": "ipython",
    "version": 3
   },
   "file_extension": ".py",
   "mimetype": "text/x-python",
   "name": "python",
   "nbconvert_exporter": "python",
   "pygments_lexer": "ipython3",
   "version": "3.8.5"
  }
 },
 "nbformat": 4,
 "nbformat_minor": 4
}
